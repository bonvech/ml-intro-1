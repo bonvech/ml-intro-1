{
 "cells": [
  {
   "cell_type": "markdown",
   "metadata": {},
   "source": [
    "### Question 1. \n",
    "A sample with two classes A and B has maximum entropy. After adding one more representative of class B to the sample, the entropy changes by 0.00222387. How many representatives of class A does the sample contain?\n",
    "\n",
    "Образец с двумя классами A и B имеет максимальную энтропию. После добавления в выборку еще одного представителя класса B энтропия изменится на 0,00222387. Сколько представителей класса А содержит выборка?"
   ]
  },
  {
   "cell_type": "code",
   "execution_count": 14,
   "metadata": {},
   "outputs": [
    {
     "data": {
      "text/plain": [
       "1.791759469228055"
      ]
     },
     "execution_count": 14,
     "metadata": {},
     "output_type": "execute_result"
    }
   ],
   "source": [
    "import math\n",
    "math.log(6)"
   ]
  },
  {
   "cell_type": "code",
   "execution_count": 20,
   "metadata": {},
   "outputs": [
    {
     "name": "stdout",
     "output_type": "stream",
     "text": [
      "16 15 1 0.2337916587064593\n",
      "16 14 2 0.37677016125643675\n",
      "16 13 3 0.48257756517701206\n",
      "16 12 4 0.5623351446188083\n",
      "16 11 5 0.6210863745552451\n",
      "16 10 6 0.6615632381579821\n",
      "16 9 7 0.6853142072764582\n",
      "16 8 8 0.6931471805599453\n",
      "16 7 9 0.6853142072764582\n",
      "16 6 10 0.6615632381579821\n",
      "16 5 11 0.6210863745552451\n",
      "16 4 12 0.5623351446188083\n",
      "16 3 13 0.48257756517701206\n",
      "16 2 14 0.37677016125643675\n",
      "16 1 15 0.2337916587064593\n"
     ]
    }
   ],
   "source": [
    "import math\n",
    "\n",
    "ds = 0.00222387\n",
    "n = 16\n",
    "for nb in range(1, n):\n",
    "    s = - (n - nb)/ n * math.log((n - nb)/ n ) - nb/n * math.log(nb/n)\n",
    "    print(n, n - nb, nb, s)"
   ]
  },
  {
   "cell_type": "code",
   "execution_count": 25,
   "metadata": {},
   "outputs": [
    {
     "name": "stdout",
     "output_type": "stream",
     "text": [
      "2 1 1 0.05663301226513251\n",
      "3 2 1 -0.05663301226513251\n",
      "4 2 2 0.020135513550688766\n",
      "5 3 2 -0.020135513550688766\n",
      "6 3 3 0.01023907585947359\n",
      "7 4 3 -0.01023907585947359\n",
      "8 4 4 0.006185603962621911\n",
      "9 5 4 -0.006185603962621911\n",
      "10 5 5 0.004137942083286661\n",
      "11 6 5 -0.004137942083286661\n",
      "12 6 6 0.00296150454114108\n",
      "13 7 6 -0.00296150454114108\n",
      "14 7 7 0.002223871246127218\n",
      "15 8 7 -0.002223871246127218\n",
      "16 8 8 0.0017311029428269675\n",
      "17 9 8 -0.0017311029428269675\n",
      "18 9 9 0.0013856817075275085\n",
      "19 10 9 -0.0013856817075275085\n"
     ]
    }
   ],
   "source": [
    "ds = 0.00222387\n",
    "n = 20\n",
    "for n in range(2, n):\n",
    "    nb = n // 2\n",
    "    s = - (n - nb)/ n * math.log((n - nb)/ n ) - nb/n * math.log(nb/n)\n",
    "    s1 = - (n - nb)/ (n+1) * math.log((n - nb)/ (n+1) ) - (nb+1)/(n+1) * math.log((nb+1)/(n+1))\n",
    "    \n",
    "    print(n, n - nb, nb, s-s1)"
   ]
  },
  {
   "cell_type": "markdown",
   "metadata": {},
   "source": [
    "### Question 5. \n",
    "Time needed for training a random forest will inevitably grow proportionally with the number of estimators, since by its nature it can't be parallelized.\n",
    "1 балл\n",
    "\n",
    "    True\n",
    "    *False\n"
   ]
  },
  {
   "cell_type": "markdown",
   "metadata": {},
   "source": [
    "### Question 6\n",
    "There is a zoo with 33 animal oracles. Each animal can predict which of the two competing teams of the Champions League Final will win the game with probability of 0.55. What is the probability that the zoo animals will predict the winner correctly if they predict independently from each other by simple majority of votes? Chose the closest answer.\n",
    "1 балл\n",
    "\n",
    "Есть зоопарк с 33 животными-оракулами. Каждое животное может предсказать, какая из двух соревнующихся команд финала Лиги чемпионов выиграет игру с вероятностью 0,55. Какова вероятность того, что животные зоопарка правильно предскажут победителя, если они предсказывают независимо друг от друга простым большинством голосов? Выбрал ближайший ответ."
   ]
  },
  {
   "cell_type": "code",
   "execution_count": 6,
   "metadata": {},
   "outputs": [
    {
     "name": "stdout",
     "output_type": "stream",
     "text": [
      "17\n",
      "18\n",
      "19\n",
      "20\n",
      "21\n",
      "22\n",
      "23\n",
      "24\n",
      "25\n",
      "26\n",
      "27\n",
      "28\n",
      "29\n",
      "30\n",
      "31\n",
      "32\n",
      "33\n",
      "0.7191379833357604\n"
     ]
    }
   ],
   "source": [
    "from scipy.special import binom\n",
    "\n",
    "num = 33\n",
    "p = 0.55\n",
    "prob = 0\n",
    "for n in range(17, 34):\n",
    "    print(n)\n",
    "    prob += 0.55 ** n * (1 - p) ** (num - n) * binom(num, n)\n",
    "print(prob)"
   ]
  },
  {
   "cell_type": "markdown",
   "metadata": {},
   "source": [
    "### Question 7. \n",
    "Training a tree without additional restrictions will almost sure result in\n",
    "\n",
    "    All leaves containing only one observation\n",
    "    All leaves beeing pure\n",
    "    Overfitting\n",
    "    Train accuracy being 1.0"
   ]
  }
 ],
 "metadata": {
  "kernelspec": {
   "display_name": "Python 3",
   "language": "python",
   "name": "python3"
  },
  "language_info": {
   "codemirror_mode": {
    "name": "ipython",
    "version": 3
   },
   "file_extension": ".py",
   "mimetype": "text/x-python",
   "name": "python",
   "nbconvert_exporter": "python",
   "pygments_lexer": "ipython3",
   "version": "3.7.4"
  }
 },
 "nbformat": 4,
 "nbformat_minor": 4
}
