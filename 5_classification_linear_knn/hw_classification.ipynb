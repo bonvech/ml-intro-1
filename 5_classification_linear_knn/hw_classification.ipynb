{
 "cells": [
  {
   "cell_type": "markdown",
   "metadata": {},
   "source": [
    "# Classification. Linear models and KNN"
   ]
  },
  {
   "cell_type": "markdown",
   "metadata": {},
   "source": [
    "Этот ноутбук лучше смотреть через nbviewer:\n",
    "\n",
    "https://nbviewer.org/github/bonvech/ml-intro-1/blob/main/5_classification_linear_knn/hw_classification.ipynb\n",
    "\n",
    "Части 1 и 2 не получились. Часть 3 - частично."
   ]
  },
  {
   "cell_type": "code",
   "execution_count": 1,
   "metadata": {},
   "outputs": [],
   "source": [
    "import os\n",
    "import numpy as np\n",
    "import pandas as pd\n",
    "import seaborn as sns\n",
    "import matplotlib.pyplot as plt"
   ]
  },
  {
   "cell_type": "code",
   "execution_count": 2,
   "metadata": {},
   "outputs": [],
   "source": [
    "from sklearn.pipeline import Pipeline\n",
    "from sklearn.compose import ColumnTransformer\n",
    "from sklearn.model_selection import train_test_split, cross_validate\n",
    "from sklearn.metrics import plot_confusion_matrix, accuracy_score\n",
    "from sklearn.neighbors import KNeighborsClassifier\n",
    "from sklearn.preprocessing import StandardScaler, OneHotEncoder"
   ]
  },
  {
   "cell_type": "markdown",
   "metadata": {},
   "source": [
    "## Part 1: Implementing Logistic Regression"
   ]
  },
  {
   "cell_type": "markdown",
   "metadata": {},
   "source": [
    "In this task you need to implement Logistic Regression with l2 regularization using gradient descent algorithm."
   ]
  },
  {
   "cell_type": "markdown",
   "metadata": {},
   "source": [
    "Logistic Regression loss:\n",
    "$$ L(w) = \\dfrac{1}{N}\\sum_{i=1}^N \\log(1 + e^{-\\langle w, x_i \\rangle y_i}) + \\frac{1}{2C} \\lVert w \\rVert^2  \\to \\min_w$$\n",
    "$$\\langle w, x_i \\rangle = \\sum_{j=1}^n w_{j}x_{ij} + w_{0},$$ $$ y_{i} \\in \\{-1, 1\\}$$ where $n$ is the number of features and $N$ is the number of samples."
   ]
  },
  {
   "cell_type": "markdown",
   "metadata": {},
   "source": [
    "Gradient descent step:\n",
    "$$w^{(t+1)} := w^{(t)} + \\dfrac{\\eta}{N}\\sum_{i=1}^N y_ix_i \\Big(1 - \\dfrac{1}{1 + exp(-\\langle w^{(t)}, x_i \\rangle y_i)}\\Big) - \\eta \\frac{1}{C} w,$$\n",
    "where $\\eta$ is the learning rate."
   ]
  },
  {
   "cell_type": "markdown",
   "metadata": {},
   "source": [
    "**(2 points)** Implement the algorithm and use it to classify the digits (https://scikit-learn.org/stable/modules/generated/sklearn.datasets.load_digits.html) into \"even\" and \"odd\" categories. \"Even\" and \"Odd\" classes  should correspond to {-1, 1} labels."
   ]
  },
  {
   "cell_type": "markdown",
   "metadata": {},
   "source": [
    "Stopping criteria: either the number of iterations exceeds *max_iter* or $||w^{(t+1)} - w^{(t)}||_2 < tol$."
   ]
  },
  {
   "cell_type": "code",
   "execution_count": 3,
   "metadata": {},
   "outputs": [],
   "source": [
    "from sklearn.exceptions import NotFittedError"
   ]
  },
  {
   "cell_type": "code",
   "execution_count": 9,
   "metadata": {},
   "outputs": [
    {
     "name": "stdout",
     "output_type": "stream",
     "text": [
      "i= 0\n",
      "y.shape: (1437,)  X.shape:  (1437, 65)\n",
      "(65, 1437)\n",
      "[ 4.93736952e-04  0.00000000e+00  7.16771051e-05  1.51844120e-03\n",
      "  5.46833681e-03  4.97042450e-03  2.05288796e-04 -5.06610995e-04\n",
      " -4.03618650e-05  4.17536534e-06  6.53444676e-04  4.65414057e-03\n",
      "  6.86708420e-03  4.46416145e-03  2.13500348e-03  1.05427975e-04\n",
      "  6.95894224e-06  1.04384134e-06  1.29540710e-03  6.34098817e-03\n",
      "  4.09011830e-03  1.81697982e-03  3.12595685e-03  1.07654836e-03\n",
      "  3.51426583e-05  6.95894224e-07  1.62178149e-03  5.62421712e-03\n",
      "  2.47146834e-03  2.25469729e-03  2.77070285e-03  1.50452331e-03\n",
      "  3.13152401e-06  0.00000000e+00  2.48190675e-03  5.87125957e-03\n",
      "  4.63048017e-03  4.42519137e-03  3.47042450e-03  1.59533751e-03\n",
      "  0.00000000e+00  1.56576200e-05  1.83959638e-03  7.50974252e-03\n",
      "  5.33298539e-03  3.63778706e-03  4.38065414e-03  2.09046625e-03\n",
      "  4.24495477e-05  1.35699374e-05  5.46624913e-04  6.00069589e-03\n",
      "  5.82776618e-03  5.16910230e-03  5.55080028e-03  2.66353514e-03\n",
      "  1.36743215e-04  1.04384134e-06  8.73347251e-05  1.50347947e-03\n",
      "  5.67919276e-03  7.39979123e-03  4.47738344e-03  1.78949200e-03\n",
      "  2.41127349e-04]\n"
     ]
    }
   ],
   "source": [
    "class CustomLogisticRegression:\n",
    "    _estimator_type = \"classifier\"\n",
    "    \n",
    "    def __init__(self, eta=0.001, max_iter=1000, C=1.0, tol=1e-5, random_state=42, zero_init=False):\n",
    "        \"\"\"Logistic Regression classifier.\n",
    "        \n",
    "        Args:\n",
    "            eta: float, default=0.001\n",
    "                Learning rate.\n",
    "            max_iter: int, default=1000\n",
    "                Maximum number of iterations taken for the solvers to converge.\n",
    "            C: float, default=1.0\n",
    "                Inverse of regularization strength; must be a positive float.\n",
    "                Smaller values specify stronger regularization.\n",
    "            tol: float, default=1e-5\n",
    "                Tolerance for stopping criteria.\n",
    "            random_state: int, default=42\n",
    "                Random state.\n",
    "            zero_init: bool, default=False\n",
    "                Zero weight initialization.\n",
    "        \"\"\"\n",
    "        self.eta = eta\n",
    "        self.max_iter = max_iter\n",
    "        self.C = C\n",
    "        self.tol = tol\n",
    "        self.random_state = np.random.RandomState(seed=random_state)\n",
    "        self.zero_init = zero_init\n",
    "         \n",
    "    \n",
    "    def get_sigmoid(self, X, weights):\n",
    "        \"\"\"Compute the sigmoid value.\"\"\"\n",
    "        return 1 / (1 + np.exp((-1) * X @ weights))\n",
    "    \n",
    "    \n",
    "    def get_loss(self, x, weights, y):\n",
    "        \"\"\"Calculate the loss.\"\"\"\n",
    "        # <your code>\n",
    "        # ======>\n",
    "        np.log(1 / (1 + np.exp((-1) * X @ weights)))\n",
    "        pass\n",
    "\n",
    "    \n",
    "    def fit(self, X, y):\n",
    "        \"\"\"Fit the model.\n",
    "        \n",
    "        Args:\n",
    "            X: numpy array of shape (n_samples, n_features)\n",
    "            y: numpy array of shape (n_samples,)\n",
    "                Target vector.        \n",
    "        \"\"\"\n",
    "        X_ext = np.hstack([np.ones((X.shape[0], 1)), X]) # a constant feature is included to handle intercept\n",
    "        num_features = X_ext.shape[1]\n",
    "        if self.zero_init:\n",
    "            self.weights_ = np.zeros(num_features) \n",
    "        else:\n",
    "            weight_threshold = 1.0 / (2 * num_features)\n",
    "            self.weights_ = self.random_state.uniform(low=-weight_threshold,\n",
    "                                                      high=weight_threshold, size=num_features) # random weight initialization\n",
    "        \n",
    "        N = X_ext.shape[0]\n",
    "        X = X_ext\n",
    "        #wxi = np.sum(X @ self.weights_[:-1]) + self.weights_[-1]\n",
    "        #print(wxi)\n",
    "        for i in range(self.max_iter):\n",
    "            print(\"i=\", i)\n",
    "            print(\"y.shape:\", y.shape, \" X.shape: \",  X.shape)\n",
    "            A = y * X.T\n",
    "            print(A.shape)\n",
    "            #A = (1 - 1 / (1 + np.exp(- wxi * y)))\n",
    "            #print(A.shape)\n",
    "            #A =  y * X.T * (1 - 1 / (1 + np.exp(- wxi * y)))\n",
    "            \n",
    "            #A = self.eta / N * np.sum( y * X.T  * (1 - 1 / (1 + np.exp(- wxi * y))))\n",
    "            A = 1 / ( 1 + np.exp( - ( X.dot( self.weights_ ) ) ) )\n",
    "            tmp = ( A - y.T )        \n",
    "            tmp = np.reshape( tmp, N )        \n",
    "            delta = np.dot( X.T, tmp ) / N * self.eta      \n",
    "            #delta = (\n",
    "            #    self.eta / N * np.sum(y * X.T * \n",
    "            #    (1 - 1 / (1 + np.exp(- (X @ self.weights_)) * y)))\n",
    "            #    - self.eta / self.C * self.weights_      \n",
    "            #)\n",
    "            print(delta)\n",
    "            self.weights_ -= self.eta * delta\n",
    "            #print(self.weights_)\n",
    "            # if delta ** 1 < tol\n",
    "            # ==>\n",
    "            if np.sum(delta**2) < self.tol:\n",
    "                print(np.sum(delta**2))\n",
    "                break\n",
    "    \n",
    "    \n",
    "    def predict_proba(self, X):\n",
    "        \"\"\"Predict positive class probabilities.\n",
    "        \n",
    "        Args:\n",
    "            X: numpy array of shape (n_samples, n_features)\n",
    "        Returns:\n",
    "            y: numpy array of shape (n_samples,)\n",
    "                Vector containing positive class probabilities.\n",
    "        \"\"\"\n",
    "        X_ext = np.hstack([np.ones((X.shape[0], 1)), X])\n",
    "        if hasattr(self, 'weights_'):\n",
    "            return self.get_sigmoid(X_ext, self.weights_)\n",
    "        else: \n",
    "            raise NotFittedError(\"CustomLogisticRegression instance is not fitted yet\")\n",
    "    \n",
    "    \n",
    "    def predict(self, X):\n",
    "        \"\"\"Predict classes.\n",
    "        \n",
    "        Args:\n",
    "            X: numpy array of shape (n_samples, n_features)\n",
    "        Returns:\n",
    "            y: numpy array of shape (n_samples,)\n",
    "                Vector containing predicted class labels.\n",
    "        \"\"\"\n",
    "        # <your code>\n",
    "        pass\n",
    "    \n",
    "lr_clf = CustomLogisticRegression(max_iter=1, zero_init=True)\n",
    "lr_clf.fit(X_train, y_train)"
   ]
  },
  {
   "cell_type": "code",
   "execution_count": 5,
   "metadata": {},
   "outputs": [],
   "source": [
    "from sklearn import datasets\n",
    "from sklearn import metrics"
   ]
  },
  {
   "cell_type": "code",
   "execution_count": 6,
   "metadata": {},
   "outputs": [
    {
     "data": {
      "image/png": "[encoded data removed]",
      "text/plain": [
       "<Figure size 720x360 with 21 Axes>"
      ]
     },
     "metadata": {
      "needs_background": "light"
     },
     "output_type": "display_data"
    }
   ],
   "source": [
    "X, y = datasets.load_digits(n_class=10, return_X_y=True)\n",
    "\n",
    "_, axes = plt.subplots(nrows=3, ncols=7, figsize=(10, 5))\n",
    "for ax, image, label in zip(axes.flatten(), X, y):\n",
    "    ax.set_axis_off()\n",
    "    ax.imshow(image.reshape((8, 8)), cmap=plt.cm.gray_r if label % 2 else plt.cm.afmhot_r)\n",
    "    ax.set_title(label)\n",
    "\n",
    "X_train, X_test, y_train, y_test = train_test_split(X, y, test_size=0.2, shuffle=True, random_state=42)\n",
    "#y_train = \"<your code>\"\n",
    "#y_test = \"<your code>\"\n",
    "y_train = (y_train % 2) * 2 - 1\n",
    "y_test  = (y_test % 2) * 2 - 1"
   ]
  },
  {
   "cell_type": "code",
   "execution_count": 7,
   "metadata": {},
   "outputs": [],
   "source": [
    "assert (np.unique(y_train) == [-1, 1]).all()\n",
    "assert (np.unique(y_test)  == [-1, 1]).all()"
   ]
  },
  {
   "cell_type": "code",
   "execution_count": 8,
   "metadata": {},
   "outputs": [],
   "source": [
    "def fit_evaluate(clf, X_train, y_train, X_test, y_test):\n",
    "    clf.fit(X_train, y_train)\n",
    "    disp = metrics.plot_confusion_matrix(clf, X_test, y_test, normalize='true')\n",
    "    disp.figure_.suptitle(\"Confusion Matrix\")\n",
    "    plt.show()\n",
    "    \n",
    "    return metrics.accuracy_score(y_pred=clf.predict(X_train), y_true=y_train), \\\n",
    "           metrics.accuracy_score(y_pred=clf.predict(X_test), y_true=y_test)"
   ]
  },
  {
   "cell_type": "code",
   "execution_count": 154,
   "metadata": {},
   "outputs": [],
   "source": [
    "lr_clf = CustomLogisticRegression(max_iter=1, zero_init=True)"
   ]
  },
  {
   "cell_type": "code",
   "execution_count": 155,
   "metadata": {},
   "outputs": [],
   "source": [
    "assert np.allclose(lr_clf.get_sigmoid(np.array([[0.5, 0, 1.0], [0.3, 1.3, 1.0]]), np.array([0.5, -0.5, 0.1])),\n",
    "                   np.array([0.58662, 0.40131]))"
   ]
  },
  {
   "cell_type": "code",
   "execution_count": 10,
   "metadata": {},
   "outputs": [
    {
     "name": "stdout",
     "output_type": "stream",
     "text": [
      "i= 0\n",
      "y.shape: (1437,)  X.shape:  (1437, 65)\n",
      "(65, 1437)\n",
      "[ 4.93736952e-04  0.00000000e+00  7.16771051e-05  1.51844120e-03\n",
      "  5.46833681e-03  4.97042450e-03  2.05288796e-04 -5.06610995e-04\n",
      " -4.03618650e-05  4.17536534e-06  6.53444676e-04  4.65414057e-03\n",
      "  6.86708420e-03  4.46416145e-03  2.13500348e-03  1.05427975e-04\n",
      "  6.95894224e-06  1.04384134e-06  1.29540710e-03  6.34098817e-03\n",
      "  4.09011830e-03  1.81697982e-03  3.12595685e-03  1.07654836e-03\n",
      "  3.51426583e-05  6.95894224e-07  1.62178149e-03  5.62421712e-03\n",
      "  2.47146834e-03  2.25469729e-03  2.77070285e-03  1.50452331e-03\n",
      "  3.13152401e-06  0.00000000e+00  2.48190675e-03  5.87125957e-03\n",
      "  4.63048017e-03  4.42519137e-03  3.47042450e-03  1.59533751e-03\n",
      "  0.00000000e+00  1.56576200e-05  1.83959638e-03  7.50974252e-03\n",
      "  5.33298539e-03  3.63778706e-03  4.38065414e-03  2.09046625e-03\n",
      "  4.24495477e-05  1.35699374e-05  5.46624913e-04  6.00069589e-03\n",
      "  5.82776618e-03  5.16910230e-03  5.55080028e-03  2.66353514e-03\n",
      "  1.36743215e-04  1.04384134e-06  8.73347251e-05  1.50347947e-03\n",
      "  5.67919276e-03  7.39979123e-03  4.47738344e-03  1.78949200e-03\n",
      "  2.41127349e-04]\n",
      "[-4.93736952e-07  0.00000000e+00 -7.16771051e-08 -1.51844120e-06\n",
      " -5.46833681e-06 -4.97042450e-06 -2.05288796e-07  5.06610995e-07\n",
      "  4.03618650e-08 -4.17536534e-09 -6.53444676e-07 -4.65414057e-06\n",
      " -6.86708420e-06 -4.46416145e-06 -2.13500348e-06 -1.05427975e-07\n",
      " -6.95894224e-09 -1.04384134e-09 -1.29540710e-06 -6.34098817e-06\n",
      " -4.09011830e-06 -1.81697982e-06 -3.12595685e-06 -1.07654836e-06\n",
      " -3.51426583e-08 -6.95894224e-10 -1.62178149e-06 -5.62421712e-06\n",
      " -2.47146834e-06 -2.25469729e-06 -2.77070285e-06 -1.50452331e-06\n",
      " -3.13152401e-09  0.00000000e+00 -2.48190675e-06 -5.87125957e-06\n",
      " -4.63048017e-06 -4.42519137e-06 -3.47042450e-06 -1.59533751e-06\n",
      "  0.00000000e+00 -1.56576200e-08 -1.83959638e-06 -7.50974252e-06\n",
      " -5.33298539e-06 -3.63778706e-06 -4.38065414e-06 -2.09046625e-06\n",
      " -4.24495477e-08 -1.35699374e-08 -5.46624913e-07 -6.00069589e-06\n",
      " -5.82776618e-06 -5.16910230e-06 -5.55080028e-06 -2.66353514e-06\n",
      " -1.36743215e-07 -1.04384134e-09 -8.73347251e-08 -1.50347947e-06\n",
      " -5.67919276e-06 -7.39979123e-06 -4.47738344e-06 -1.78949200e-06\n",
      " -2.41127349e-07]\n"
     ]
    }
   ],
   "source": [
    "lr_clf = CustomLogisticRegression(max_iter=1, zero_init=True)\n",
    "lr_clf.fit(X_train, y_train)\n",
    "print(lr_clf.weights_)"
   ]
  },
  {
   "cell_type": "code",
   "execution_count": 11,
   "metadata": {},
   "outputs": [
    {
     "ename": "AssertionError",
     "evalue": "",
     "output_type": "error",
     "traceback": [
      "\u001b[0;31m---------------------------------------------------------------------------\u001b[0m",
      "\u001b[0;31mAssertionError\u001b[0m                            Traceback (most recent call last)",
      "\u001b[0;32m<ipython-input-11-935a519d511c>\u001b[0m in \u001b[0;36m<module>\u001b[0;34m\u001b[0m\n\u001b[1;32m     11\u001b[0m        \u001b[0;34m-\u001b[0m\u001b[0;36m9.4300e-05\u001b[0m\u001b[0;34m,\u001b[0m \u001b[0;34m-\u001b[0m\u001b[0;36m1.1127e-03\u001b[0m\u001b[0;34m,\u001b[0m \u001b[0;34m-\u001b[0m\u001b[0;36m5.0900e-04\u001b[0m\u001b[0;34m,\u001b[0m \u001b[0;34m-\u001b[0m\u001b[0;36m2.1850e-04\u001b[0m\u001b[0;34m,\u001b[0m \u001b[0;34m-\u001b[0m\u001b[0;36m5.6050e-04\u001b[0m\u001b[0;34m,\u001b[0m\u001b[0;34m\u001b[0m\u001b[0;34m\u001b[0m\u001b[0m\n\u001b[1;32m     12\u001b[0m        \u001b[0;34m-\u001b[0m\u001b[0;36m3.9560e-04\u001b[0m\u001b[0;34m,\u001b[0m \u001b[0;34m-\u001b[0m\u001b[0;36m1.7700e-05\u001b[0m\u001b[0;34m,\u001b[0m \u001b[0;34m-\u001b[0m\u001b[0;36m3.0000e-07\u001b[0m\u001b[0;34m,\u001b[0m  \u001b[0;36m2.6800e-05\u001b[0m\u001b[0;34m,\u001b[0m  \u001b[0;36m6.3920e-04\u001b[0m\u001b[0;34m,\u001b[0m\u001b[0;34m\u001b[0m\u001b[0;34m\u001b[0m\u001b[0m\n\u001b[0;32m---> 13\u001b[0;31m         1.8090e-04, -7.3660e-04, -5.3930e-04, -3.7060e-04, -2.8200e-05]), atol=1e-5)\n\u001b[0m",
      "\u001b[0;31mAssertionError\u001b[0m: "
     ]
    }
   ],
   "source": [
    "assert np.allclose(lr_clf.weights_, np.array([ 3.1000e-06,  0.0000e+00,  4.1800e-05,  5.4770e-04,  2.2130e-04,\n",
    "        4.8750e-04,  1.3577e-03,  5.9780e-04,  5.6400e-05, -7.0000e-07,\n",
    "        1.6910e-04,  2.5190e-04, -4.3700e-04,  3.6190e-04,  1.0049e-03,\n",
    "        4.2280e-04,  2.5700e-05,  3.0000e-07, -1.1500e-05, -7.2440e-04,\n",
    "       -2.6200e-04,  8.7540e-04,  4.1540e-04, -8.4200e-05, -5.2000e-06,\n",
    "        0.0000e+00, -2.2160e-04, -5.7130e-04,  9.8570e-04,  1.3507e-03,\n",
    "        5.0210e-04, -1.7050e-04, -1.0000e-06,  0.0000e+00, -6.7810e-04,\n",
    "       -1.0515e-03, -4.4500e-05,  3.7160e-04,  4.2100e-04, -8.1800e-05,\n",
    "        0.0000e+00, -5.2000e-06, -5.3410e-04, -2.0393e-03, -8.4310e-04,\n",
    "        1.0400e-04, -1.2390e-04, -1.7880e-04, -1.3200e-05, -4.5000e-06,\n",
    "       -9.4300e-05, -1.1127e-03, -5.0900e-04, -2.1850e-04, -5.6050e-04,\n",
    "       -3.9560e-04, -1.7700e-05, -3.0000e-07,  2.6800e-05,  6.3920e-04,\n",
    "        1.8090e-04, -7.3660e-04, -5.3930e-04, -3.7060e-04, -2.8200e-05]), atol=1e-5)"
   ]
  },
  {
   "cell_type": "code",
   "execution_count": null,
   "metadata": {},
   "outputs": [],
   "source": [
    "model = CustomLogisticRegression()"
   ]
  },
  {
   "cell_type": "code",
   "execution_count": null,
   "metadata": {},
   "outputs": [],
   "source": [
    "train_acc, test_acc = fit_evaluate(model, X_train, y_train, X_test, y_test)"
   ]
  },
  {
   "cell_type": "code",
   "execution_count": null,
   "metadata": {},
   "outputs": [],
   "source": [
    "train_acc, test_acc"
   ]
  },
  {
   "cell_type": "code",
   "execution_count": null,
   "metadata": {},
   "outputs": [],
   "source": [
    "assert min(train_acc, test_acc) > 0.9"
   ]
  },
  {
   "cell_type": "markdown",
   "metadata": {},
   "source": [
    "**(0.5 points)** Visualize the loss history."
   ]
  },
  {
   "cell_type": "code",
   "execution_count": null,
   "metadata": {},
   "outputs": [],
   "source": [
    "## your code"
   ]
  },
  {
   "cell_type": "markdown",
   "metadata": {},
   "source": [
    "**(0.5 points)** Try different learning rates and compare the results. How does the learning rate influence the convergence?"
   ]
  },
  {
   "cell_type": "code",
   "execution_count": null,
   "metadata": {},
   "outputs": [],
   "source": [
    "## your code"
   ]
  },
  {
   "cell_type": "markdown",
   "metadata": {},
   "source": [
    "< your thoughts >"
   ]
  },
  {
   "cell_type": "markdown",
   "metadata": {},
   "source": [
    "**(0.5 points)** Try different regularization parameter values and compare the model quality."
   ]
  },
  {
   "cell_type": "code",
   "execution_count": null,
   "metadata": {},
   "outputs": [],
   "source": [
    "## your code"
   ]
  },
  {
   "cell_type": "markdown",
   "metadata": {},
   "source": [
    "< your thoughts >"
   ]
  },
  {
   "cell_type": "markdown",
   "metadata": {},
   "source": [
    "**(0.5 points)** Compare zero initialization and random initialization. "
   ]
  },
  {
   "cell_type": "code",
   "execution_count": null,
   "metadata": {},
   "outputs": [],
   "source": [
    "## your code"
   ]
  },
  {
   "cell_type": "markdown",
   "metadata": {},
   "source": [
    "< your thoughts >"
   ]
  },
  {
   "cell_type": "markdown",
   "metadata": {},
   "source": [
    "## Part 2: Implementing KNN Classifier"
   ]
  },
  {
   "cell_type": "markdown",
   "metadata": {},
   "source": [
    "In this task you need to implement weighted K-Neighbors Classifier."
   ]
  },
  {
   "cell_type": "markdown",
   "metadata": {},
   "source": [
    "Recall that training a KNN classifier is simply memorizing a training sample. \n",
    "\n",
    "The process of applying a classifier for one object is to find the distances from it to all objects in the training data, then select the k nearest objects (neighbors) and return the most common class among these objects."
   ]
  },
  {
   "cell_type": "markdown",
   "metadata": {},
   "source": [
    "You can also give the nearest neighbors weights in accordance with the distance of the object to them. In the simplest case (as in your assignment), you can set the weights inversely proportional to that distance. \n",
    "\n",
    "$$w_{i} = \\frac{1}{d_{i} + eps},$$\n",
    "\n",
    "where $d_{i}$ is the distance between object and i-th nearest neighbor and $eps$ is the small value to prevent division by zero.\n",
    "\n",
    "In case of 'uniform' weights, all k nearest neighbors are equivalent (have equal weight, for example $w_{i} = 1, \\forall i \\in(1,k)$)."
   ]
  },
  {
   "cell_type": "markdown",
   "metadata": {},
   "source": [
    "To predict the probability of classes, it is necessary to normalize the weights of each class, dividing them by the sum:\n",
    "\n",
    "$$p_{i} = \\frac{w_{i}}{\\sum_{j=1}^{c}w_{j}},$$\n",
    "\n",
    "where $p_i$ is probability of i-th class and $c$ is the number of classes."
   ]
  },
  {
   "cell_type": "markdown",
   "metadata": {},
   "source": [
    "**(2 points)** Implement the algorithm and use it to classify the digits. By implementing this algorithm, you will be able to classify numbers not only into \"even\" or \"odd\", but into their real representation."
   ]
  },
  {
   "cell_type": "code",
   "execution_count": null,
   "metadata": {},
   "outputs": [],
   "source": [
    "class CustomKNeighborsClassifier:\n",
    "    _estimator_type = \"classifier\"\n",
    "    \n",
    "    def __init__(self, n_neighbors=5, weights='uniform', eps=1e-9):\n",
    "        \"\"\"K-Nearest Neighbors classifier.\n",
    "        \n",
    "        Args:\n",
    "            n_neighbors: int, default=5\n",
    "                Number of neighbors to use by default for :meth:`kneighbors` queries.\n",
    "            weights : {'uniform', 'distance'} or callable, default='uniform'\n",
    "                Weight function used in prediction.  Possible values:\n",
    "                - 'uniform' : uniform weights.  All points in each neighborhood\n",
    "                  are weighted equally.\n",
    "                - 'distance' : weight points by the inverse of their distance.\n",
    "                  in this case, closer neighbors of a query point will have a\n",
    "                  greater influence than neighbors which are further away.\n",
    "            eps : float, default=1e-5\n",
    "                Epsilon to prevent division by 0 \n",
    "        \"\"\"\n",
    "        self.n_neighbors = n_neighbors\n",
    "        self.weights = weights\n",
    "        self.eps = eps\n",
    "        \n",
    "    \n",
    "    def get_pairwise_distances(self, X, Y):\n",
    "        \"\"\"\n",
    "        Returnes matrix of the pairwise distances between the rows from both X and Y.\n",
    "        Args:\n",
    "            X: numpy array of shape (n_samples, n_features)\n",
    "            Y: numpy array of shape (k_samples, n_features)\n",
    "        Returns:\n",
    "            P: numpy array of shape (n_samples, k_samples)\n",
    "                Matrix in which (i, j) value is the distance \n",
    "                between i'th row from the X and j'th row from the Y.\n",
    "        \"\"\"\n",
    "        # <your code>\n",
    "        pass\n",
    "    \n",
    "    \n",
    "    def get_class_weights(self, y, weights):\n",
    "        \"\"\"\n",
    "        Returns a vector with sum of weights for each class \n",
    "        Args:\n",
    "            y: numpy array of shape (n_samles,)\n",
    "            weights: numpy array of shape (n_samples,)\n",
    "                The weights of the corresponding points of y.\n",
    "        Returns:\n",
    "            p: numpy array of shape (n_classes)\n",
    "                Array where the value at the i-th position \n",
    "                corresponds to the weight of the i-th class.\n",
    "        \"\"\"\n",
    "        # <your code>\n",
    "        pass\n",
    "            \n",
    "        \n",
    "    def fit(self, X, y):\n",
    "        \"\"\"Fit the model.\n",
    "        \n",
    "        Args:\n",
    "            X: numpy array of shape (n_samples, n_features)\n",
    "            y: numpy array of shape (n_samples,)\n",
    "                Target vector.        \n",
    "        \"\"\"\n",
    "        self.points = X\n",
    "        self.y = y\n",
    "        self.classes_ = np.unique(y)\n",
    "        \n",
    "        \n",
    "    def predict_proba(self, X):\n",
    "        \"\"\"Predict positive class probabilities.\n",
    "        \n",
    "        Args:\n",
    "            X: numpy array of shape (n_samples, n_features)\n",
    "        Returns:\n",
    "            y: numpy array of shape (n_samples, n_classes)\n",
    "                Vector containing positive class probabilities.\n",
    "        \"\"\"\n",
    "        if hasattr(self, 'points'):\n",
    "            P = self.get_pairwise_distances(X, self.points)\n",
    "            \n",
    "            weights_of_points = np.ones(P.shape)\n",
    "            if self.weights == 'distance':\n",
    "                weights_of_points = 'your code'\n",
    "                \n",
    "            # <your code>\n",
    "            pass\n",
    "        \n",
    "        else: \n",
    "            raise NotFittedError(\"CustomKNeighborsClassifier instance is not fitted yet\")\n",
    "            \n",
    "        \n",
    "    def predict(self, X):\n",
    "        \"\"\"Predict classes.\n",
    "        \n",
    "        Args:\n",
    "            X: numpy array of shape (n_samples, n_features)\n",
    "        Returns:\n",
    "            y: numpy array of shape (n_samples,)\n",
    "                Vector containing predicted class labels.\n",
    "        \"\"\"\n",
    "        # <your code>\n",
    "        pass"
   ]
  },
  {
   "cell_type": "code",
   "execution_count": null,
   "metadata": {},
   "outputs": [],
   "source": [
    "model = CustomKNeighborsClassifier(n_neighbors=5, weights='distance')\n",
    "knn = KNeighborsClassifier(n_neighbors=5, weights='distance')"
   ]
  },
  {
   "cell_type": "code",
   "execution_count": null,
   "metadata": {},
   "outputs": [],
   "source": [
    "assert np.allclose(model.get_pairwise_distances(np.array([[0  , 1]  , [1, 1]]), \n",
    "                                                np.array([[0.5, 0.5], [1, 0]])),\n",
    "                   np.array([[0.70710678, 1.41421356],\n",
    "                             [0.70710678, 1.        ]]))"
   ]
  },
  {
   "cell_type": "code",
   "execution_count": null,
   "metadata": {},
   "outputs": [],
   "source": [
    "model.classes_ = ['one', 'two', 'three']\n",
    "assert np.allclose(model.get_class_weights(np.array(['one', 'one', 'three', 'two']), np.array([1, 1, 0, 4])), \n",
    "                   np.array([2,4,0]))"
   ]
  },
  {
   "cell_type": "code",
   "execution_count": null,
   "metadata": {},
   "outputs": [],
   "source": [
    "X, y = datasets.load_digits(n_class=10, return_X_y=True)\n",
    "\n",
    "_, axes = plt.subplots(nrows=3, ncols=7, figsize=(10, 5))\n",
    "for ax, image, label in zip(axes.flatten(), X, y):\n",
    "    ax.set_axis_off()\n",
    "    ax.imshow(image.reshape((8, 8)), cmap=plt.cm.gray_r if label % 2 else plt.cm.afmhot_r)\n",
    "    ax.set_title(label)\n",
    "\n",
    "X_train, X_test, y_train, y_test = train_test_split(X, y, test_size=0.2, shuffle=True, random_state=42)"
   ]
  },
  {
   "cell_type": "code",
   "execution_count": null,
   "metadata": {},
   "outputs": [],
   "source": [
    "model.fit(X_train, y_train)\n",
    "knn.fit(X_train, list(map(str, y_train)));"
   ]
  },
  {
   "cell_type": "code",
   "execution_count": null,
   "metadata": {},
   "outputs": [],
   "source": [
    "assert np.allclose(model.predict_proba(X_test), knn.predict_proba(X_test))"
   ]
  },
  {
   "cell_type": "code",
   "execution_count": null,
   "metadata": {},
   "outputs": [],
   "source": [
    "train_acc, test_acc = fit_evaluate(model, X_train, y_train, X_test, y_test)"
   ]
  },
  {
   "cell_type": "code",
   "execution_count": null,
   "metadata": {},
   "outputs": [],
   "source": [
    "assert train_acc == 1\n",
    "assert test_acc > 0.98"
   ]
  },
  {
   "cell_type": "markdown",
   "metadata": {},
   "source": [
    "**(0.5 points)** Take a look at the confusion matrix and tell what numbers the model confuses and why this happens."
   ]
  },
  {
   "cell_type": "markdown",
   "metadata": {},
   "source": [
    "< your thoughts >"
   ]
  },
  {
   "cell_type": "markdown",
   "metadata": {},
   "source": [
    "**(0.5 points)** Try different n_neighbors parameters and compare the output probabilities of the model."
   ]
  },
  {
   "cell_type": "code",
   "execution_count": null,
   "metadata": {},
   "outputs": [],
   "source": [
    "## your code"
   ]
  },
  {
   "cell_type": "markdown",
   "metadata": {},
   "source": [
    "< your thoughts >"
   ]
  },
  {
   "cell_type": "markdown",
   "metadata": {},
   "source": [
    "**(0.5 points)** Compare both 'uniform' and 'distance' weights and share your thoughts in what situations which parameter can be better."
   ]
  },
  {
   "cell_type": "code",
   "execution_count": null,
   "metadata": {},
   "outputs": [],
   "source": [
    "## your code"
   ]
  },
  {
   "cell_type": "markdown",
   "metadata": {},
   "source": [
    "< your thoughts >"
   ]
  },
  {
   "cell_type": "markdown",
   "metadata": {},
   "source": [
    "**(0.5 points)** Suggest another distance measurement function that could improve the quality of the classification for this task. "
   ]
  },
  {
   "cell_type": "markdown",
   "metadata": {},
   "source": [
    "< your thoughts >"
   ]
  },
  {
   "cell_type": "markdown",
   "metadata": {},
   "source": [
    "**(0.5 points)** Suggest different task and distance function that you think would be suitable for it."
   ]
  },
  {
   "cell_type": "markdown",
   "metadata": {},
   "source": [
    "< your thoughts >"
   ]
  },
  {
   "cell_type": "markdown",
   "metadata": {},
   "source": [
    "## Part 3: Synthetic Titanic Survival Prediction"
   ]
  },
  {
   "cell_type": "markdown",
   "metadata": {},
   "source": [
    "### Dataset\n",
    "\n",
    "Read the description here: https://www.kaggle.com/c/tabular-playground-series-apr-2021/data. Download the dataset and place it in the *data/titanic/* folder in your working directory.\n",
    "You will use train.csv for model training and validation. The test set is used for model testing: once the model is trained, you can predict whether a passenger survived or not for each passenger in the test set, and submit the predictions: https://www.kaggle.com/c/tabular-playground-series-apr-2021/overview/evaluation.  \n"
   ]
  },
  {
   "cell_type": "code",
   "execution_count": 12,
   "metadata": {},
   "outputs": [],
   "source": [
    "PATH = \"../data/\""
   ]
  },
  {
   "cell_type": "code",
   "execution_count": 151,
   "metadata": {},
   "outputs": [
    {
     "data": {
      "text/plain": [
       "(100000, 11)"
      ]
     },
     "execution_count": 151,
     "metadata": {},
     "output_type": "execute_result"
    }
   ],
   "source": [
    "data = pd.read_csv(os.path.join(PATH, 'titanic', 'train.csv')).set_index('PassengerId')\n",
    "data.shape"
   ]
  },
  {
   "cell_type": "code",
   "execution_count": 14,
   "metadata": {
    "scrolled": true
   },
   "outputs": [
    {
     "data": {
      "text/html": [
       "<div>\n",
       "<style scoped>\n",
       "    .dataframe tbody tr th:only-of-type {\n",
       "        vertical-align: middle;\n",
       "    }\n",
       "\n",
       "    .dataframe tbody tr th {\n",
       "        vertical-align: top;\n",
       "    }\n",
       "\n",
       "    .dataframe thead th {\n",
       "        text-align: right;\n",
       "    }\n",
       "</style>\n",
       "<table border=\"1\" class=\"dataframe\">\n",
       "  <thead>\n",
       "    <tr style=\"text-align: right;\">\n",
       "      <th></th>\n",
       "      <th>Survived</th>\n",
       "      <th>Pclass</th>\n",
       "      <th>Name</th>\n",
       "      <th>Sex</th>\n",
       "      <th>Age</th>\n",
       "      <th>SibSp</th>\n",
       "      <th>Parch</th>\n",
       "      <th>Ticket</th>\n",
       "      <th>Fare</th>\n",
       "      <th>Cabin</th>\n",
       "      <th>Embarked</th>\n",
       "    </tr>\n",
       "    <tr>\n",
       "      <th>PassengerId</th>\n",
       "      <th></th>\n",
       "      <th></th>\n",
       "      <th></th>\n",
       "      <th></th>\n",
       "      <th></th>\n",
       "      <th></th>\n",
       "      <th></th>\n",
       "      <th></th>\n",
       "      <th></th>\n",
       "      <th></th>\n",
       "      <th></th>\n",
       "    </tr>\n",
       "  </thead>\n",
       "  <tbody>\n",
       "    <tr>\n",
       "      <th>0</th>\n",
       "      <td>1</td>\n",
       "      <td>1</td>\n",
       "      <td>Oconnor, Frankie</td>\n",
       "      <td>male</td>\n",
       "      <td>NaN</td>\n",
       "      <td>2</td>\n",
       "      <td>0</td>\n",
       "      <td>209245</td>\n",
       "      <td>27.14</td>\n",
       "      <td>C12239</td>\n",
       "      <td>S</td>\n",
       "    </tr>\n",
       "    <tr>\n",
       "      <th>1</th>\n",
       "      <td>0</td>\n",
       "      <td>3</td>\n",
       "      <td>Bryan, Drew</td>\n",
       "      <td>male</td>\n",
       "      <td>NaN</td>\n",
       "      <td>0</td>\n",
       "      <td>0</td>\n",
       "      <td>27323</td>\n",
       "      <td>13.35</td>\n",
       "      <td>NaN</td>\n",
       "      <td>S</td>\n",
       "    </tr>\n",
       "    <tr>\n",
       "      <th>2</th>\n",
       "      <td>0</td>\n",
       "      <td>3</td>\n",
       "      <td>Owens, Kenneth</td>\n",
       "      <td>male</td>\n",
       "      <td>0.33</td>\n",
       "      <td>1</td>\n",
       "      <td>2</td>\n",
       "      <td>CA 457703</td>\n",
       "      <td>71.29</td>\n",
       "      <td>NaN</td>\n",
       "      <td>S</td>\n",
       "    </tr>\n",
       "    <tr>\n",
       "      <th>3</th>\n",
       "      <td>0</td>\n",
       "      <td>3</td>\n",
       "      <td>Kramer, James</td>\n",
       "      <td>male</td>\n",
       "      <td>19.00</td>\n",
       "      <td>0</td>\n",
       "      <td>0</td>\n",
       "      <td>A. 10866</td>\n",
       "      <td>13.04</td>\n",
       "      <td>NaN</td>\n",
       "      <td>S</td>\n",
       "    </tr>\n",
       "    <tr>\n",
       "      <th>4</th>\n",
       "      <td>1</td>\n",
       "      <td>3</td>\n",
       "      <td>Bond, Michael</td>\n",
       "      <td>male</td>\n",
       "      <td>25.00</td>\n",
       "      <td>0</td>\n",
       "      <td>0</td>\n",
       "      <td>427635</td>\n",
       "      <td>7.76</td>\n",
       "      <td>NaN</td>\n",
       "      <td>S</td>\n",
       "    </tr>\n",
       "  </tbody>\n",
       "</table>\n",
       "</div>"
      ],
      "text/plain": [
       "             Survived  Pclass              Name   Sex    Age  SibSp  Parch  \\\n",
       "PassengerId                                                                  \n",
       "0                   1       1  Oconnor, Frankie  male    NaN      2      0   \n",
       "1                   0       3       Bryan, Drew  male    NaN      0      0   \n",
       "2                   0       3    Owens, Kenneth  male   0.33      1      2   \n",
       "3                   0       3     Kramer, James  male  19.00      0      0   \n",
       "4                   1       3     Bond, Michael  male  25.00      0      0   \n",
       "\n",
       "                Ticket   Fare   Cabin Embarked  \n",
       "PassengerId                                     \n",
       "0               209245  27.14  C12239        S  \n",
       "1                27323  13.35     NaN        S  \n",
       "2            CA 457703  71.29     NaN        S  \n",
       "3             A. 10866  13.04     NaN        S  \n",
       "4               427635   7.76     NaN        S  "
      ]
     },
     "execution_count": 14,
     "metadata": {},
     "output_type": "execute_result"
    }
   ],
   "source": [
    "data.head()"
   ]
  },
  {
   "cell_type": "markdown",
   "metadata": {},
   "source": [
    "****\n",
    "### EDA"
   ]
  },
  {
   "cell_type": "markdown",
   "metadata": {},
   "source": [
    "**(0.5 points)** How many females and males are there in the dataset? What about the survived passengers? Is there any relationship between the gender and the survival?"
   ]
  },
  {
   "cell_type": "code",
   "execution_count": 15,
   "metadata": {},
   "outputs": [
    {
     "name": "stdout",
     "output_type": "stream",
     "text": [
      "----- Распределение по полу ---\n",
      "male      56114\n",
      "female    43886\n",
      "Name: Sex, dtype: int64\n"
     ]
    },
    {
     "data": {
      "image/png": "[encoded data removed]",
      "text/plain": [
       "<Figure size 432x288 with 1 Axes>"
      ]
     },
     "metadata": {
      "needs_background": "light"
     },
     "output_type": "display_data"
    }
   ],
   "source": [
    "# How many females and males are there in the dataset?\n",
    "print(\"----- Распределение по полу ---\")\n",
    "print(data['Sex'].value_counts())\n",
    "sns.countplot(x='Sex', data=data);"
   ]
  },
  {
   "cell_type": "code",
   "execution_count": 16,
   "metadata": {},
   "outputs": [
    {
     "data": {
      "image/png": "[encoded data removed]",
      "text/plain": [
       "<Figure size 432x288 with 1 Axes>"
      ]
     },
     "metadata": {
      "needs_background": "light"
     },
     "output_type": "display_data"
    }
   ],
   "source": [
    "###  Распределение выживших по полу \n",
    "sns.countplot(hue='Sex', x='Survived', data=data);"
   ]
  },
  {
   "cell_type": "code",
   "execution_count": 18,
   "metadata": {},
   "outputs": [
    {
     "data": {
      "image/png": "[encoded data removed]",
      "text/plain": [
       "<Figure size 384x144 with 1 Axes>"
      ]
     },
     "metadata": {
      "needs_background": "light"
     },
     "output_type": "display_data"
    }
   ],
   "source": [
    "## процент выживших в зависимости от пола\n",
    "fig = sns.displot(\n",
    "    data=data,\n",
    "    y=\"Sex\",\n",
    "    hue=\"Survived\",\n",
    "    bins=2,\n",
    "    multiple=\"fill\",\n",
    "    hue_order=[0, 1],\n",
    "    legend=False,\n",
    "    height=2,\n",
    "    aspect=8/3,\n",
    ")\n",
    "fig.set(ylabel=\"Sex\", xlabel=\"%\")\n",
    "plt.xticks([x / 10 for x in range(11)], range(0, 101, 10))  # %\n",
    "plt.title(\"Survived by Sex\")\n",
    "plt.legend([\"Survived\", \"No survived\"], bbox_to_anchor=(1.0, 1.0))\n",
    "plt.show()"
   ]
  },
  {
   "cell_type": "code",
   "execution_count": 19,
   "metadata": {},
   "outputs": [
    {
     "name": "stdout",
     "output_type": "stream",
     "text": [
      "Sex     Survived\n",
      "female  0           12660\n",
      "        1           31226\n",
      "male    0           44566\n",
      "        1           11548\n",
      "Name: Sex, dtype: int64\n",
      "Процент выживших среди женщин: 71.2\n",
      "Процент выживших среди мужчин: 20.6\n"
     ]
    }
   ],
   "source": [
    "## процент выживших в зависимости от пола\n",
    "supv = data.groupby(['Sex', 'Survived'])['Sex'].count()\n",
    "print(supv)\n",
    "print(f\"Процент выживших среди женщин: {100 * supv[1] / (supv[0] + supv[1]):.1f}\")\n",
    "print(f\"Процент выживших среди мужчин: {100 * supv[3] / (supv[2] + supv[3]):.1f}\")"
   ]
  },
  {
   "cell_type": "markdown",
   "metadata": {},
   "source": [
    "*****\n",
    "#### `ОБСУЖДЕНИЕ`\n",
    "\n",
    "    Is there any relationship between the gender and the survival?\n",
    "\n",
    "Мужчин на борту было больше, чем женщин. Среди выживших больше женщин,чем мужчин. \n",
    "71% женщин выжил, из мужчин - только 21%.\n",
    "\n",
    "Вывод: принадлежность к женскому полу повыщает вероятность выжить"
   ]
  },
  {
   "cell_type": "markdown",
   "metadata": {},
   "source": [
    "*****\n",
    "\n",
    "**(0.5 points)** Plot age distribution of the passengers. What is the average and the median age of survived and deceased passengers? Do age distributions differ for survived and deceased passengers? Why?"
   ]
  },
  {
   "cell_type": "code",
   "execution_count": 50,
   "metadata": {},
   "outputs": [
    {
     "data": {
      "image/png": "[encoded data removed]",
      "text/plain": [
       "<Figure size 432x288 with 1 Axes>"
      ]
     },
     "metadata": {
      "needs_background": "light"
     },
     "output_type": "display_data"
    }
   ],
   "source": [
    "sns.histplot(data[\"Age\"], bins=100, binwidth=1)\n",
    "plt.grid();"
   ]
  },
  {
   "cell_type": "code",
   "execution_count": 59,
   "metadata": {},
   "outputs": [
    {
     "data": {
      "image/png": "[encoded data removed]",
      "text/plain": [
       "<Figure size 432x288 with 1 Axes>"
      ]
     },
     "metadata": {
      "needs_background": "light"
     },
     "output_type": "display_data"
    }
   ],
   "source": [
    "sns.histplot(data[\"Age\"], bins=100, binwidth=1)\n",
    "sns.histplot(data[\"Age\"][data.Survived==1], bins=100, binwidth=1)\n",
    "plt.grid();"
   ]
  },
  {
   "cell_type": "code",
   "execution_count": 70,
   "metadata": {},
   "outputs": [
    {
     "data": {
      "image/png": "[encoded data removed]",
      "text/plain": [
       "<Figure size 432x288 with 1 Axes>"
      ]
     },
     "metadata": {
      "needs_background": "light"
     },
     "output_type": "display_data"
    }
   ],
   "source": [
    "\n",
    "sns.histplot(data=data, x=\"Age\",  hue=\"Survived\",   bins=100, binwidth=1)\n",
    "plt.grid();"
   ]
  },
  {
   "cell_type": "code",
   "execution_count": 152,
   "metadata": {},
   "outputs": [
    {
     "data": {
      "image/png": "[encoded data removed]",
      "text/plain": [
       "<Figure size 518.4x288 with 1 Axes>"
      ]
     },
     "metadata": {
      "needs_background": "light"
     },
     "output_type": "display_data"
    }
   ],
   "source": [
    "## Процент выживших в разных возрастных группах\n",
    "data[\"Age Group\"] = data[\"Age\"]\n",
    "data[\"Age Group\"].fillna(-1, inplace=True)\n",
    "data[\"Age Group\"] = data[\"Age Group\"].map(lambda age: int(age // 10) + 1)\n",
    "fig = sns.displot(\n",
    "    data=data, y=\"Age Group\", hue=\"Survived\",\n",
    "    bins=10, multiple=\"fill\",\n",
    "    hue_order=[0, 1],\n",
    "    legend=False,\n",
    "    height=4, aspect=18/10,\n",
    ")\n",
    "fig.set(ylabel=\"Age\", xlabel=\"%\")\n",
    "plt.yticks(range(10), range(0, 100, 10))  # %\n",
    "plt.xticks([x / 10 for x in range(11)], range(0, 101, 10))  # %\n",
    "plt.title(\"Survived / Drown by Age\")\n",
    "plt.legend([\"Survived\", \"Drowned\"], bbox_to_anchor=(1.0, 1.0))\n",
    "plt.show()"
   ]
  },
  {
   "cell_type": "code",
   "execution_count": 126,
   "metadata": {},
   "outputs": [
    {
     "data": {
      "image/png": "[encoded data removed]",
      "text/plain": [
       "<Figure size 518.4x288 with 1 Axes>"
      ]
     },
     "metadata": {
      "needs_background": "light"
     },
     "output_type": "display_data"
    }
   ],
   "source": [
    "## Процент выживших в разных возрастных группах\n",
    "data_baby = data[[\"Age\", \"Survived\"]][data.Age <= 18]\n",
    "data_baby[\"Age Group\"] = data_baby[\"Age\"]\n",
    "data_baby[\"Age Group\"].fillna(-1, inplace=True)\n",
    "data_baby[\"Age Group\"] = data_baby[\"Age Group\"].map(lambda age: int(age // 1) )\n",
    "fig = sns.displot(\n",
    "    data=data_baby, y=\"Age Group\", hue=\"Survived\",\n",
    "    bins=18, multiple=\"fill\",\n",
    "    hue_order=[0, 1],\n",
    "    legend=False,\n",
    "    height=4, aspect=18/10,\n",
    ")\n",
    "fig.set(ylabel=\"Age\", xlabel=\"%\")\n",
    "plt.yticks(range(18))  # %\n",
    "plt.xticks([x / 10 for x in range(11)], range(0, 101, 10)) \n",
    "plt.title(\"Survived / Drown by Age\")\n",
    "plt.legend([\"Survived\", \"No Survived\"], bbox_to_anchor=(1.0, 1.0))\n",
    "plt.show()"
   ]
  },
  {
   "cell_type": "code",
   "execution_count": 56,
   "metadata": {},
   "outputs": [
    {
     "data": {
      "text/html": [
       "<div>\n",
       "<style scoped>\n",
       "    .dataframe tbody tr th:only-of-type {\n",
       "        vertical-align: middle;\n",
       "    }\n",
       "\n",
       "    .dataframe tbody tr th {\n",
       "        vertical-align: top;\n",
       "    }\n",
       "\n",
       "    .dataframe thead th {\n",
       "        text-align: right;\n",
       "    }\n",
       "</style>\n",
       "<table border=\"1\" class=\"dataframe\">\n",
       "  <thead>\n",
       "    <tr style=\"text-align: right;\">\n",
       "      <th></th>\n",
       "      <th>count</th>\n",
       "      <th>mean</th>\n",
       "      <th>std</th>\n",
       "      <th>min</th>\n",
       "      <th>25%</th>\n",
       "      <th>50%</th>\n",
       "      <th>75%</th>\n",
       "      <th>max</th>\n",
       "    </tr>\n",
       "    <tr>\n",
       "      <th>Survived</th>\n",
       "      <th></th>\n",
       "      <th></th>\n",
       "      <th></th>\n",
       "      <th></th>\n",
       "      <th></th>\n",
       "      <th></th>\n",
       "      <th></th>\n",
       "      <th></th>\n",
       "    </tr>\n",
       "  </thead>\n",
       "  <tbody>\n",
       "    <tr>\n",
       "      <th>0</th>\n",
       "      <td>55290.0</td>\n",
       "      <td>36.708695</td>\n",
       "      <td>17.809058</td>\n",
       "      <td>0.08</td>\n",
       "      <td>24.0</td>\n",
       "      <td>36.0</td>\n",
       "      <td>52.0</td>\n",
       "      <td>83.0</td>\n",
       "    </tr>\n",
       "    <tr>\n",
       "      <th>1</th>\n",
       "      <td>41418.0</td>\n",
       "      <td>40.553799</td>\n",
       "      <td>18.742172</td>\n",
       "      <td>0.08</td>\n",
       "      <td>27.0</td>\n",
       "      <td>43.0</td>\n",
       "      <td>55.0</td>\n",
       "      <td>87.0</td>\n",
       "    </tr>\n",
       "  </tbody>\n",
       "</table>\n",
       "</div>"
      ],
      "text/plain": [
       "            count       mean        std   min   25%   50%   75%   max\n",
       "Survived                                                             \n",
       "0         55290.0  36.708695  17.809058  0.08  24.0  36.0  52.0  83.0\n",
       "1         41418.0  40.553799  18.742172  0.08  27.0  43.0  55.0  87.0"
      ]
     },
     "execution_count": 56,
     "metadata": {},
     "output_type": "execute_result"
    }
   ],
   "source": [
    "## средний возраст всех выживших\n",
    "data.dropna(subset=[\"Age\"]).groupby(['Survived'])['Age'].describe()"
   ]
  },
  {
   "cell_type": "code",
   "execution_count": 74,
   "metadata": {},
   "outputs": [
    {
     "data": {
      "text/html": [
       "<div>\n",
       "<style scoped>\n",
       "    .dataframe tbody tr th:only-of-type {\n",
       "        vertical-align: middle;\n",
       "    }\n",
       "\n",
       "    .dataframe tbody tr th {\n",
       "        vertical-align: top;\n",
       "    }\n",
       "\n",
       "    .dataframe thead th {\n",
       "        text-align: right;\n",
       "    }\n",
       "</style>\n",
       "<table border=\"1\" class=\"dataframe\">\n",
       "  <thead>\n",
       "    <tr style=\"text-align: right;\">\n",
       "      <th></th>\n",
       "      <th>count</th>\n",
       "      <th>mean</th>\n",
       "      <th>std</th>\n",
       "      <th>min</th>\n",
       "      <th>25%</th>\n",
       "      <th>50%</th>\n",
       "      <th>75%</th>\n",
       "      <th>max</th>\n",
       "    </tr>\n",
       "    <tr>\n",
       "      <th>Survived</th>\n",
       "      <th></th>\n",
       "      <th></th>\n",
       "      <th></th>\n",
       "      <th></th>\n",
       "      <th></th>\n",
       "      <th></th>\n",
       "      <th></th>\n",
       "      <th></th>\n",
       "    </tr>\n",
       "  </thead>\n",
       "  <tbody>\n",
       "    <tr>\n",
       "      <th>0</th>\n",
       "      <td>48898.0</td>\n",
       "      <td>40.702841</td>\n",
       "      <td>14.780952</td>\n",
       "      <td>16.5</td>\n",
       "      <td>27.0</td>\n",
       "      <td>39.0</td>\n",
       "      <td>53.0</td>\n",
       "      <td>83.0</td>\n",
       "    </tr>\n",
       "    <tr>\n",
       "      <th>1</th>\n",
       "      <td>36357.0</td>\n",
       "      <td>45.195423</td>\n",
       "      <td>14.876002</td>\n",
       "      <td>16.5</td>\n",
       "      <td>32.0</td>\n",
       "      <td>46.0</td>\n",
       "      <td>57.0</td>\n",
       "      <td>87.0</td>\n",
       "    </tr>\n",
       "  </tbody>\n",
       "</table>\n",
       "</div>"
      ],
      "text/plain": [
       "            count       mean        std   min   25%   50%   75%   max\n",
       "Survived                                                             \n",
       "0         48898.0  40.702841  14.780952  16.5  27.0  39.0  53.0  83.0\n",
       "1         36357.0  45.195423  14.876002  16.5  32.0  46.0  57.0  87.0"
      ]
     },
     "execution_count": 74,
     "metadata": {},
     "output_type": "execute_result"
    }
   ],
   "source": [
    "## средний возраст выживших взрослых\n",
    "data[data.Age > 16].dropna(subset=[\"Age\"]).groupby(['Survived'])['Age'].describe()"
   ]
  },
  {
   "cell_type": "code",
   "execution_count": 73,
   "metadata": {},
   "outputs": [
    {
     "data": {
      "text/html": [
       "<div>\n",
       "<style scoped>\n",
       "    .dataframe tbody tr th:only-of-type {\n",
       "        vertical-align: middle;\n",
       "    }\n",
       "\n",
       "    .dataframe tbody tr th {\n",
       "        vertical-align: top;\n",
       "    }\n",
       "\n",
       "    .dataframe thead th {\n",
       "        text-align: right;\n",
       "    }\n",
       "</style>\n",
       "<table border=\"1\" class=\"dataframe\">\n",
       "  <thead>\n",
       "    <tr style=\"text-align: right;\">\n",
       "      <th></th>\n",
       "      <th>count</th>\n",
       "      <th>mean</th>\n",
       "      <th>std</th>\n",
       "      <th>min</th>\n",
       "      <th>25%</th>\n",
       "      <th>50%</th>\n",
       "      <th>75%</th>\n",
       "      <th>max</th>\n",
       "    </tr>\n",
       "    <tr>\n",
       "      <th>Survived</th>\n",
       "      <th></th>\n",
       "      <th></th>\n",
       "      <th></th>\n",
       "      <th></th>\n",
       "      <th></th>\n",
       "      <th></th>\n",
       "      <th></th>\n",
       "      <th></th>\n",
       "    </tr>\n",
       "  </thead>\n",
       "  <tbody>\n",
       "    <tr>\n",
       "      <th>0</th>\n",
       "      <td>6197.0</td>\n",
       "      <td>5.844157</td>\n",
       "      <td>3.718242</td>\n",
       "      <td>0.08</td>\n",
       "      <td>3.0</td>\n",
       "      <td>5.0</td>\n",
       "      <td>8.0</td>\n",
       "      <td>15.5</td>\n",
       "    </tr>\n",
       "    <tr>\n",
       "      <th>1</th>\n",
       "      <td>4929.0</td>\n",
       "      <td>6.974084</td>\n",
       "      <td>4.086212</td>\n",
       "      <td>0.08</td>\n",
       "      <td>4.0</td>\n",
       "      <td>7.0</td>\n",
       "      <td>10.0</td>\n",
       "      <td>15.5</td>\n",
       "    </tr>\n",
       "  </tbody>\n",
       "</table>\n",
       "</div>"
      ],
      "text/plain": [
       "           count      mean       std   min  25%  50%   75%   max\n",
       "Survived                                                        \n",
       "0         6197.0  5.844157  3.718242  0.08  3.0  5.0   8.0  15.5\n",
       "1         4929.0  6.974084  4.086212  0.08  4.0  7.0  10.0  15.5"
      ]
     },
     "execution_count": 73,
     "metadata": {},
     "output_type": "execute_result"
    }
   ],
   "source": [
    "## средний возраст выживших детей\n",
    "data[data.Age < 16].dropna(subset=[\"Age\"]).groupby(['Survived'])['Age'].describe()"
   ]
  },
  {
   "cell_type": "code",
   "execution_count": 107,
   "metadata": {},
   "outputs": [
    {
     "name": "stdout",
     "output_type": "stream",
     "text": [
      "Средний возраст      всех            пассажиров:      38 лет\n",
      "Средний возраст всех        выживших пассажиров:      41 лет\n",
      "Средний возраст всех        погибших пассажиров:      37 лет\n",
      "Средний возраст взрослых    выживших пассажиров:      45 лет\n",
      "Средний возраст взрослых    погибших пассажиров:      41 лет\n",
      "Средний возраст детей среди выживших пассажиров:       7 лет\n",
      "Средний возраст детей среди погибших пассажиров:       6 лет\n",
      "\n",
      "Медианный возраст      всех            пассажиров:      38 лет\n",
      "Медианный возраст всех        выживших пассажиров:      43 лет\n",
      "Медианный возраст всех        погибших пассажиров:      36 лет\n",
      "Медианный возраст взрослых    выживших пассажиров:      46 лет\n",
      "Медианный возраст взрослых    погибших пассажиров:      39 лет\n",
      "Медианный возраст детей среди выживших пассажиров:       7 лет\n",
      "Медианный возраст детей среди погибших пассажиров:       5 лет\n"
     ]
    }
   ],
   "source": [
    "group = ['всех', \"взрослых\", \"детей среди\"]\n",
    "mean = [data.dropna(subset=[\"Age\"]).groupby(['Survived'])['Age'].mean(),\n",
    "        data[data.Age >= 16].dropna(subset=[\"Age\"]).groupby(['Survived'])['Age'].mean(),\n",
    "        data[data.Age < 16].dropna(subset=[\"Age\"]).groupby(['Survived'])['Age'].mean()\n",
    "       ]\n",
    "allgr=data.dropna(subset=[\"Age\"])['Age'].mean()\n",
    "print(f\"Средний возраст      всех            пассажиров: {allgr:7.0f} лет\")\n",
    "for i in range(3):\n",
    "    print(f\"Средний возраст {group[i]:11} выживших пассажиров: {mean[i][1]:7.0f} лет\")\n",
    "    print(f\"Средний возраст {group[i]:11} погибших пассажиров: {mean[i][0]:7.0f} лет\")\n",
    "    \n",
    "group = ['всех', \"взрослых\", \"детей среди\"]\n",
    "mean = [data.dropna(subset=[\"Age\"]).groupby(['Survived'])['Age'].median(),\n",
    "        data[data.Age >= 16].dropna(subset=[\"Age\"]).groupby(['Survived'])['Age'].median(),\n",
    "        data[data.Age < 16].dropna(subset=[\"Age\"]).groupby(['Survived'])['Age'].median()\n",
    "       ]\n",
    "allgr=data.dropna(subset=[\"Age\"])['Age'].mean()\n",
    "print(f\"\\nМедианный возраст      всех            пассажиров: {allgr:7.0f} лет\")\n",
    "for i in range(3):\n",
    "    print(f\"Медианный возраст {group[i]:11} выживших пассажиров: {mean[i][1]:7.0f} лет\")\n",
    "    print(f\"Медианный возраст {group[i]:11} погибших пассажиров: {mean[i][0]:7.0f} лет\")"
   ]
  },
  {
   "cell_type": "markdown",
   "metadata": {},
   "source": [
    "*****\n",
    "#### `ОБСУЖДЕНИЕ`\n",
    "\n",
    "    What is the average and the median age of survived and deceased passengers? Do age distributions differ for survived and deceased passengers? Why?\n",
    "\n",
    "Средний возраст всех пассажиров 38 лет.\n",
    "Средний и медианный возраст выживших пассажиров выше (41 и 43), чем погибших (37 и 36).\n",
    "Распределения по возрасту показывают, что пожилых пассажиров спаслось больше, чем молодых. Это объясняется, скорее всего, тем, что более пожилые пассажиры имели билеты более высокого класса и их спасали в первую очередь.\n",
    "\n",
    "Если рассмотривать детей отдельно, то у детей 12-15 лет больше шансов на выживание. Они могли спасаться самостоятельно независимо от взрослых. \n",
    "\n",
    "Вывод: Доля спасенных больше среди пассажиров более старшего возраста."
   ]
  },
  {
   "cell_type": "markdown",
   "metadata": {},
   "source": [
    "****\n",
    "**(1 point)** Explore \"passenger class\" and \"embarked\" features. What class was \"the safest\"? Is there any relationship between the embarkation port and the survival? Provide the corresponding visualizations."
   ]
  },
  {
   "cell_type": "code",
   "execution_count": 26,
   "metadata": {},
   "outputs": [
    {
     "name": "stdout",
     "output_type": "stream",
     "text": [
      "3    41006\n",
      "1    30315\n",
      "2    28679\n",
      "Name: Pclass, dtype: int64\n"
     ]
    },
    {
     "data": {
      "image/png": "[encoded data removed]",
      "text/plain": [
       "<Figure size 432x288 with 1 Axes>"
      ]
     },
     "metadata": {
      "needs_background": "light"
     },
     "output_type": "display_data"
    }
   ],
   "source": [
    "###  Pclass - класс каюты\n",
    "print(data.Pclass.value_counts())\n",
    "sns.histplot(x=data['Pclass'], hue=data['Survived'], multiple=\"dodge\", shrink=8,\n",
    "                  stat='density', common_norm=False);"
   ]
  },
  {
   "cell_type": "code",
   "execution_count": 27,
   "metadata": {},
   "outputs": [
    {
     "data": {
      "image/png": "[encoded data removed]",
      "text/plain": [
       "<Figure size 384x144 with 1 Axes>"
      ]
     },
     "metadata": {
      "needs_background": "light"
     },
     "output_type": "display_data"
    }
   ],
   "source": [
    "## Процент выживших пассажиров по классам\n",
    "fig = sns.displot(\n",
    "    data=data, y=\"Pclass\", hue=\"Survived\",\n",
    "    bins=3, multiple=\"fill\",hue_order=[0, 1],\n",
    "    legend=False, height=2, aspect=8/3,\n",
    ")\n",
    "fig.set(ylabel=\"Class\", xlabel=\"%\")\n",
    "plt.yticks([1, 2, 3])  # Pclass\n",
    "plt.xticks([x / 10 for x in range(11)], range(0, 101, 10))\n",
    "plt.title(\"Survived by Class\")\n",
    "plt.legend([\"Survived\", \"No survided\"], bbox_to_anchor=(1.0, 1.0));"
   ]
  },
  {
   "cell_type": "code",
   "execution_count": 28,
   "metadata": {},
   "outputs": [
    {
     "name": "stdout",
     "output_type": "stream",
     "text": [
      "Pclass  Survived\n",
      "1       0           12739\n",
      "        1           17576\n",
      "2       0           13622\n",
      "        1           15057\n",
      "3       0           30865\n",
      "        1           10141\n",
      "Name: Pclass, dtype: int64\n",
      "Процент выживших среди пассажиров 1 класса: 58.0\n",
      "Процент выживших среди пассажиров 2 класса: 52.5\n",
      "Процент выживших среди пассажиров 3 класса: 24.7\n"
     ]
    }
   ],
   "source": [
    "## Процент выживших пассажиров по классам\n",
    "surv = data.dropna(subset=[\"Pclass\"]).groupby(['Pclass', 'Survived'])['Pclass'].count()\n",
    "print(surv)\n",
    "for i in range(1, 4):\n",
    "    print(f\"Процент выживших среди пассажиров {i} класса: {100 * surv[i][1] / (surv[i][0] + surv[i][1]):.1f}\")"
   ]
  },
  {
   "cell_type": "code",
   "execution_count": 29,
   "metadata": {},
   "outputs": [
    {
     "data": {
      "text/plain": [
       "<AxesSubplot:xlabel='Pclass', ylabel='count'>"
      ]
     },
     "execution_count": 29,
     "metadata": {},
     "output_type": "execute_result"
    },
    {
     "data": {
      "image/png": "[encoded data removed]",
      "text/plain": [
       "<Figure size 432x288 with 1 Axes>"
      ]
     },
     "metadata": {
      "needs_background": "light"
     },
     "output_type": "display_data"
    }
   ],
   "source": [
    "###  Гендерный состав пассажиров разных классов \n",
    "sns.countplot(x=\"Pclass\", hue=\"Sex\", data=data)"
   ]
  },
  {
   "cell_type": "code",
   "execution_count": 30,
   "metadata": {},
   "outputs": [
    {
     "data": {
      "image/png": "[encoded data removed]",
      "text/plain": [
       "<Figure size 432x288 with 3 Axes>"
      ]
     },
     "metadata": {
      "needs_background": "light"
     },
     "output_type": "display_data"
    }
   ],
   "source": [
    "# Процент выживших в зависимости от пола по классам\n",
    "g = sns.catplot(col=\"Pclass\", x=\"Sex\", y=\"Survived\",\n",
    "                data=data, kind=\"bar\", height=4, aspect=.5);"
   ]
  },
  {
   "cell_type": "markdown",
   "metadata": {},
   "source": [
    "*****\n",
    "#### `ОБСУЖДЕНИЕ`\n",
    "\n",
    "    What class was \"the safest\"? \n",
    "\n",
    "Самый безопасный класс - первый. Процент выживших пассажиров первого класса самый высокий - 58%. Самый \"опасный\" - третий класс, процент выживших - 25%.\n",
    "\n",
    "Более того - любой класс более безопасен для женщин. В каждом из классов процент выживших женщин больше, чем мужчин. \n",
    "\n",
    "В третьем классе мужчин было в три раза больше, чем женщин, а выжило их в 10 раз меньше, чем женщин в этом же классе.\n",
    "    \n",
    "    Is there any relationship between the embarkation port and the survival? \n"
   ]
  },
  {
   "cell_type": "code",
   "execution_count": 31,
   "metadata": {},
   "outputs": [
    {
     "name": "stdout",
     "output_type": "stream",
     "text": [
      "S    72139\n",
      "C    22187\n",
      "Q     5424\n",
      "Name: Embarked, dtype: int64\n"
     ]
    },
    {
     "data": {
      "image/png": "[encoded data removed]",
      "text/plain": [
       "<Figure size 432x288 with 1 Axes>"
      ]
     },
     "metadata": {
      "needs_background": "light"
     },
     "output_type": "display_data"
    }
   ],
   "source": [
    "### Embarked - место посадки\n",
    "print(data.Embarked.value_counts())\n",
    "sns.countplot(x='Embarked', data=data);"
   ]
  },
  {
   "cell_type": "code",
   "execution_count": 32,
   "metadata": {},
   "outputs": [
    {
     "data": {
      "image/png": "[encoded data removed]",
      "text/plain": [
       "<Figure size 432x288 with 1 Axes>"
      ]
     },
     "metadata": {
      "needs_background": "light"
     },
     "output_type": "display_data"
    }
   ],
   "source": [
    "###  Распределение выживших по месту посадки\n",
    "sns.countplot(hue='Survived', x='Embarked', data=data);"
   ]
  },
  {
   "cell_type": "code",
   "execution_count": 34,
   "metadata": {},
   "outputs": [
    {
     "data": {
      "image/png": "[encoded data removed]",
      "text/plain": [
       "<Figure size 384x144 with 1 Axes>"
      ]
     },
     "metadata": {
      "needs_background": "light"
     },
     "output_type": "display_data"
    }
   ],
   "source": [
    "###  Распределение выживших по месту посадки\n",
    "fig = sns.displot(\n",
    "    data=data, y=\"Embarked\", hue=\"Survived\",\n",
    "    bins=3, multiple=\"fill\", hue_order=[0, 1], \n",
    "    legend=False, height=2, aspect=8/3,\n",
    ")\n",
    "fig.set(ylabel=\"Embarked\", xlabel=\"%\")\n",
    "plt.yticks([\"S\", \"C\", \"Q\"])  # Pclass\n",
    "plt.xticks([x / 10 for x in range(11)], range(0, 101, 10))\n",
    "plt.title(\"Survived by Embarked\")\n",
    "plt.legend([\"Survived\", \"No survided\"], bbox_to_anchor=(1.0, 1.0));"
   ]
  },
  {
   "cell_type": "code",
   "execution_count": 35,
   "metadata": {},
   "outputs": [
    {
     "name": "stdout",
     "output_type": "stream",
     "text": [
      "Embarked  Survived\n",
      "C         0            5518\n",
      "          1           16669\n",
      "Q         0            2186\n",
      "          1            3238\n",
      "S         0           49394\n",
      "          1           22745\n",
      "Name: Embarked, dtype: int64\n",
      "Процент выживших среди пассажиров порта S: 31.5\n",
      "Процент выживших среди пассажиров порта C: 75.1\n",
      "Процент выживших среди пассажиров порта Q: 59.7\n"
     ]
    }
   ],
   "source": [
    "## Процент выживших пассажиров по порту\n",
    "surv = data.dropna(subset=[\"Embarked\"]).groupby(['Embarked', 'Survived'])['Embarked'].count()\n",
    "print(surv)\n",
    "for i in [\"S\", \"C\", \"Q\"]:\n",
    "    print(f\"Процент выживших среди пассажиров порта {i}: {100 * surv[i][1] / (surv[i][0] + surv[i][1]):.1f}\")"
   ]
  },
  {
   "cell_type": "code",
   "execution_count": 36,
   "metadata": {},
   "outputs": [
    {
     "data": {
      "image/png": "[encoded data removed]",
      "text/plain": [
       "<Figure size 578.88x288 with 3 Axes>"
      ]
     },
     "metadata": {
      "needs_background": "light"
     },
     "output_type": "display_data"
    }
   ],
   "source": [
    "# Процент выживших в зависимости от порта по классам: \n",
    "g = sns.catplot(col=\"Pclass\", x=\"Embarked\", y=\"Survived\",\n",
    "                data=data, kind=\"bar\", height=4, aspect=.67);"
   ]
  },
  {
   "cell_type": "code",
   "execution_count": 37,
   "metadata": {},
   "outputs": [
    {
     "data": {
      "image/png": "[encoded data removed]",
      "text/plain": [
       "<Figure size 432x288 with 1 Axes>"
      ]
     },
     "metadata": {
      "needs_background": "light"
     },
     "output_type": "display_data"
    }
   ],
   "source": [
    "###  Распределение классов по месту посадки\n",
    "sns.countplot(hue='Pclass', x='Embarked', data=data);"
   ]
  },
  {
   "cell_type": "code",
   "execution_count": 43,
   "metadata": {},
   "outputs": [
    {
     "data": {
      "image/png": "[encoded data removed]",
      "text/plain": [
       "<Figure size 432x288 with 1 Axes>"
      ]
     },
     "metadata": {
      "needs_background": "light"
     },
     "output_type": "display_data"
    }
   ],
   "source": [
    "###  Распределение пола по месту посадки\n",
    "sns.countplot(hue='Sex', x='Embarked', data=data);"
   ]
  },
  {
   "cell_type": "markdown",
   "metadata": {},
   "source": [
    "*****\n",
    "#### `ОБСУЖДЕНИЕ` \n",
    "    \n",
    "    Is there any relationship between the embarkation port and the survival? \n",
    "\n",
    "Процент выживших пассажиров из порта Cherbourg самый высокий в целом по всем данным и в каждом классе по отдельности. Среди севших в этом порту больше всего пассажиров первого класса. Большая часть севших в этом порту - женщины, они и спаслись в первую очередь. "
   ]
  },
  {
   "cell_type": "markdown",
   "metadata": {},
   "source": [
    "*****\n",
    "### Modelling"
   ]
  },
  {
   "cell_type": "markdown",
   "metadata": {},
   "source": [
    "**(0.5 points)** Find the percentage of missing values for each feature. "
   ]
  },
  {
   "cell_type": "code",
   "execution_count": 131,
   "metadata": {},
   "outputs": [
    {
     "data": {
      "text/plain": [
       "Survived         0\n",
       "Pclass           0\n",
       "Name             0\n",
       "Sex              0\n",
       "Age           3292\n",
       "SibSp            0\n",
       "Parch            0\n",
       "Ticket        4623\n",
       "Fare           134\n",
       "Cabin        67866\n",
       "Embarked       250\n",
       "Age Group        0\n",
       "dtype: int64"
      ]
     },
     "execution_count": 131,
     "metadata": {},
     "output_type": "execute_result"
    }
   ],
   "source": [
    "## Количество пропущенных значений\n",
    "data.isnull().sum()"
   ]
  },
  {
   "cell_type": "code",
   "execution_count": 132,
   "metadata": {},
   "outputs": [
    {
     "data": {
      "text/plain": [
       "Survived      0.000\n",
       "Pclass        0.000\n",
       "Name          0.000\n",
       "Sex           0.000\n",
       "Age           3.292\n",
       "SibSp         0.000\n",
       "Parch         0.000\n",
       "Ticket        4.623\n",
       "Fare          0.134\n",
       "Cabin        67.866\n",
       "Embarked      0.250\n",
       "Age Group     0.000\n",
       "dtype: float64"
      ]
     },
     "execution_count": 132,
     "metadata": {},
     "output_type": "execute_result"
    }
   ],
   "source": [
    "## Доля пропущенных значений\n",
    "data.isnull().sum() / data.isnull().count() * 100"
   ]
  },
  {
   "cell_type": "code",
   "execution_count": 40,
   "metadata": {},
   "outputs": [
    {
     "name": "stdout",
     "output_type": "stream",
     "text": [
      "26993\n",
      "['C12239' nan 'A7253' ... 'D12975' 'F12072' 'D17243']\n"
     ]
    },
    {
     "data": {
      "text/plain": [
       "array(['C', 'A', 'D', 'B', 'E', 'F', 'G', 'T'], dtype=object)"
      ]
     },
     "execution_count": 40,
     "metadata": {},
     "output_type": "execute_result"
    }
   ],
   "source": [
    "## Cabin analysis\n",
    "print(len(data.Cabin.unique()))\n",
    "print(data.Cabin.unique())\n",
    "data.Cabin.dropna().apply(lambda x: x[0]).unique()"
   ]
  },
  {
   "cell_type": "code",
   "execution_count": 41,
   "metadata": {},
   "outputs": [
    {
     "name": "stdout",
     "output_type": "stream",
     "text": [
      "75332\n",
      "['209245' '27323' 'CA 457703' ... 'PC 15008' '458654' '458074']\n",
      " A AQ C CA F Fa LP P PC PP S SC SO ST SW W WE\n"
     ]
    }
   ],
   "source": [
    "##  Ticket analysis\n",
    "print(len(data.Ticket.unique()))\n",
    "print(data.Ticket.unique())\n",
    "print(*sorted(data.Ticket.dropna().apply(lambda x: x[0:2] if x[0:2].isalpha() else x[0] if x[0].isalpha() else \"\").unique()))"
   ]
  },
  {
   "cell_type": "code",
   "execution_count": 42,
   "metadata": {},
   "outputs": [
    {
     "name": "stdout",
     "output_type": "stream",
     "text": [
      "\n",
      "-----  Age is null -----\n",
      "Age         3292\n",
      "Ticket       156\n",
      "Cabin       2247\n",
      "Embarked       2\n",
      "Fare           5\n",
      "dtype: int64\n",
      "\n",
      "-----  Ticket is null -----\n",
      "Age          156\n",
      "Ticket      4623\n",
      "Cabin       4540\n",
      "Embarked       9\n",
      "Fare           6\n",
      "dtype: int64\n",
      "\n",
      "-----  Cabin is null -----\n",
      "Age          2247\n",
      "Ticket       4540\n",
      "Cabin       67866\n",
      "Embarked      162\n",
      "Fare           92\n",
      "dtype: int64\n",
      "\n",
      "-----  Embarked is null -----\n",
      "Age           2\n",
      "Ticket        9\n",
      "Cabin       162\n",
      "Embarked    250\n",
      "Fare          1\n",
      "dtype: int64\n",
      "\n",
      "-----  Fare is null -----\n",
      "Age           5\n",
      "Ticket        6\n",
      "Cabin        92\n",
      "Embarked      1\n",
      "Fare        134\n",
      "dtype: int64\n"
     ]
    }
   ],
   "source": [
    "## Совпадение пропусков в цене и порте посадки.\n",
    "missing = ['Age', 'Ticket', 'Cabin', 'Embarked', 'Fare']\n",
    "for feature in missing:\n",
    "    print(\"\\n----- \", feature, \"is null -----\")\n",
    "    print(data[data[feature].isnull()][missing].isnull().sum())"
   ]
  },
  {
   "cell_type": "markdown",
   "metadata": {},
   "source": [
    "Think about the ways to handle these missing values for modelling and write your answer below. Which methods would you suggest? What are their advantages and disadvantages?\n",
    "\n",
    "*****\n",
    "#### `ОБСУЖДЕНИЕ` \n",
    "    \n",
    "Есть пропущенные данные в возрасте, номере билета, стоимости билета, каюте, месте посадки. Как поступить с этими значениями?\n",
    "\n",
    "*Возраст*. 3.3% пропусков. Можно заполнить средним по полу и классу. Но предпочтем выбросить, т.к. 3% - это немного, но в тестовых данных тоже есть пропуски в возрасте, поэтому заменим на средний возраст.\n",
    "\n",
    "*Номер билета* 4.6% пропусков. Почти у всех пропусков также неизвестна каюта.\n",
    "\n",
    "*Каюта* 67% пропусков. Имеется 27 тыс различных значений. Слишком много пропущенных значений, наверное, можно просто игнорировать этот признак. Так мы потеряем часть информации, но заменять их непонятно как. Можно, в принципе, искать родственников, брать их номер каюты.\n",
    "\n",
    "При более внимательном рассмотрении оказалось, что у каюты есть первая буква, возможно, отвечающая за палубу. Можно попытаться восстановить эту букву по классу и стоимости билета.\n",
    "\n",
    "*Стоимость билета* 134 пропуска, 0.1%. Можно заполнить средним по классу и порту.\n",
    "\n",
    "*Место посадки* 0.3% пропусков, всего 250 человек. Возможно, это команда корабля. Можно выделить для их в отдельный порт посадки, назвать его \"U\".  \n",
    "\n",
    "На второй взгляд, у всех пассажиров с пропущенным местом посадки (кроме 1) есть значение в столбце цены билета, значит, это не экипаж. Тогда можно заполнить самым частым значением - \"S\"."
   ]
  },
  {
   "cell_type": "markdown",
   "metadata": {},
   "source": [
    "***\n",
    "\n",
    "**(1.5 points)** Prepare the features and train two models (KNN and Logistic Regression) to predict the survival. Compare the results. Use accuracy as a metric. Don't forget about cross-validation!"
   ]
  },
  {
   "cell_type": "code",
   "execution_count": 154,
   "metadata": {},
   "outputs": [],
   "source": [
    "## Fillimg Embarked column by the most common port of embarkation\n",
    "data[\"Embarked\"].fillna(data['Embarked'].value_counts().idxmax(), inplace=True)\n",
    "#data[\"Ticket\"].fillna(data['Ticket'].value_counts().idxmax(), inplace=True)\n",
    "\n",
    "## Заменим на среднюю стоимость\n",
    "data['Fare'].fillna(data['Fare'].mean(), inplace=True)\n",
    "\n",
    "## Удалим неизвестных\n",
    "data['Age'].fillna(data['Age'].mean(), inplace=True)\n",
    "#data.dropna(subset=[\"Age\"], inplace=True)\n",
    "\n",
    "## Создадим новый признак\n",
    "data[\"Relatives\"] = data[\"Parch\"] + data[\"SibSp\"]\n",
    "\n",
    "## Удалить ненужные столбцы\n",
    "#data['Cabine'] = data.Cabine.apply(lambda x: x[0])\n",
    "data = data.drop(['Name', 'Ticket', 'Cabin', 'Parch', 'SibSp'], axis=1)\n",
    "\n",
    "data.drop('Cabin', axis=1, inplace=True)\n",
    "data.drop('Parch', axis=1, inplace=True)\n",
    "data.drop('SibSp', axis=1, inplace=True)"
   ]
  },
  {
   "cell_type": "code",
   "execution_count": 189,
   "metadata": {},
   "outputs": [],
   "source": [
    "## Label encoding\n",
    "from sklearn import preprocessing\n",
    "  \n",
    "## label_encoder преобразует нечисловые значения в числовые\n",
    "label_encoder = preprocessing.LabelEncoder()\n",
    "  \n",
    "## Перекодируем column Sex and Embarked\n",
    "data['Sex']      = label_encoder.fit_transform(data['Sex'])\n",
    "data['Embarked'] = label_encoder.fit_transform(data['Embarked'])"
   ]
  },
  {
   "cell_type": "code",
   "execution_count": 162,
   "metadata": {},
   "outputs": [
    {
     "data": {
      "text/html": [
       "<div>\n",
       "<style scoped>\n",
       "    .dataframe tbody tr th:only-of-type {\n",
       "        vertical-align: middle;\n",
       "    }\n",
       "\n",
       "    .dataframe tbody tr th {\n",
       "        vertical-align: top;\n",
       "    }\n",
       "\n",
       "    .dataframe thead th {\n",
       "        text-align: right;\n",
       "    }\n",
       "</style>\n",
       "<table border=\"1\" class=\"dataframe\">\n",
       "  <thead>\n",
       "    <tr style=\"text-align: right;\">\n",
       "      <th></th>\n",
       "      <th>Survived</th>\n",
       "      <th>Pclass</th>\n",
       "      <th>Sex</th>\n",
       "      <th>Age</th>\n",
       "      <th>Fare</th>\n",
       "      <th>Embarked</th>\n",
       "      <th>Age Group</th>\n",
       "      <th>Relatives</th>\n",
       "    </tr>\n",
       "    <tr>\n",
       "      <th>PassengerId</th>\n",
       "      <th></th>\n",
       "      <th></th>\n",
       "      <th></th>\n",
       "      <th></th>\n",
       "      <th></th>\n",
       "      <th></th>\n",
       "      <th></th>\n",
       "      <th></th>\n",
       "    </tr>\n",
       "  </thead>\n",
       "  <tbody>\n",
       "    <tr>\n",
       "      <th>2</th>\n",
       "      <td>0</td>\n",
       "      <td>3</td>\n",
       "      <td>1</td>\n",
       "      <td>0.33</td>\n",
       "      <td>71.29</td>\n",
       "      <td>2</td>\n",
       "      <td>1</td>\n",
       "      <td>3</td>\n",
       "    </tr>\n",
       "    <tr>\n",
       "      <th>3</th>\n",
       "      <td>0</td>\n",
       "      <td>3</td>\n",
       "      <td>1</td>\n",
       "      <td>19.00</td>\n",
       "      <td>13.04</td>\n",
       "      <td>2</td>\n",
       "      <td>2</td>\n",
       "      <td>0</td>\n",
       "    </tr>\n",
       "    <tr>\n",
       "      <th>4</th>\n",
       "      <td>1</td>\n",
       "      <td>3</td>\n",
       "      <td>1</td>\n",
       "      <td>25.00</td>\n",
       "      <td>7.76</td>\n",
       "      <td>2</td>\n",
       "      <td>3</td>\n",
       "      <td>0</td>\n",
       "    </tr>\n",
       "    <tr>\n",
       "      <th>5</th>\n",
       "      <td>0</td>\n",
       "      <td>2</td>\n",
       "      <td>1</td>\n",
       "      <td>35.00</td>\n",
       "      <td>6.71</td>\n",
       "      <td>2</td>\n",
       "      <td>4</td>\n",
       "      <td>0</td>\n",
       "    </tr>\n",
       "    <tr>\n",
       "      <th>6</th>\n",
       "      <td>0</td>\n",
       "      <td>3</td>\n",
       "      <td>1</td>\n",
       "      <td>7.00</td>\n",
       "      <td>9.77</td>\n",
       "      <td>2</td>\n",
       "      <td>1</td>\n",
       "      <td>0</td>\n",
       "    </tr>\n",
       "  </tbody>\n",
       "</table>\n",
       "</div>"
      ],
      "text/plain": [
       "             Survived  Pclass  Sex    Age   Fare  Embarked  Age Group  \\\n",
       "PassengerId                                                             \n",
       "2                   0       3    1   0.33  71.29         2          1   \n",
       "3                   0       3    1  19.00  13.04         2          2   \n",
       "4                   1       3    1  25.00   7.76         2          3   \n",
       "5                   0       2    1  35.00   6.71         2          4   \n",
       "6                   0       3    1   7.00   9.77         2          1   \n",
       "\n",
       "             Relatives  \n",
       "PassengerId             \n",
       "2                    3  \n",
       "3                    0  \n",
       "4                    0  \n",
       "5                    0  \n",
       "6                    0  "
      ]
     },
     "execution_count": 162,
     "metadata": {},
     "output_type": "execute_result"
    }
   ],
   "source": [
    "data.head()"
   ]
  },
  {
   "cell_type": "code",
   "execution_count": 160,
   "metadata": {},
   "outputs": [
    {
     "data": {
      "text/plain": [
       "Survived     0\n",
       "Pclass       0\n",
       "Sex          0\n",
       "Age          0\n",
       "Ticket       0\n",
       "Fare         0\n",
       "Embarked     0\n",
       "Age Group    0\n",
       "Relatives    0\n",
       "dtype: int64"
      ]
     },
     "execution_count": 160,
     "metadata": {},
     "output_type": "execute_result"
    }
   ],
   "source": [
    "data.isnull().sum()"
   ]
  },
  {
   "cell_type": "markdown",
   "metadata": {},
   "source": [
    "***"
   ]
  },
  {
   "cell_type": "code",
   "execution_count": 174,
   "metadata": {},
   "outputs": [],
   "source": [
    "from sklearn.linear_model import LogisticRegression\n",
    "from sklearn.neighbors import KNeighborsClassifier\n",
    "from sklearn.preprocessing import StandardScaler\n",
    "from sklearn.model_selection import train_test_split\n",
    "from sklearn.model_selection import cross_val_score, GridSearchCV\n",
    "from sklearn.model_selection import train_test_split\n",
    "from sklearn import metrics \n",
    "from sklearn.metrics import classification_report, confusion_matrix"
   ]
  },
  {
   "cell_type": "code",
   "execution_count": 178,
   "metadata": {},
   "outputs": [],
   "source": [
    "import logging\n",
    "logging.basicConfig()\n",
    "logging.getLogger().setLevel(logging.INFO)"
   ]
  },
  {
   "cell_type": "code",
   "execution_count": 164,
   "metadata": {},
   "outputs": [
    {
     "name": "stderr",
     "output_type": "stream",
     "text": [
      "/home/alena/Soft/anaconda3/lib/python3.7/site-packages/ipykernel_launcher.py:1: FutureWarning: In a future version of pandas all arguments of DataFrame.drop except for the argument 'labels' will be keyword-only\n",
      "  \"\"\"Entry point for launching an IPython kernel.\n",
      "/home/alena/Soft/anaconda3/lib/python3.7/site-packages/sklearn/linear_model/_logistic.py:818: ConvergenceWarning: lbfgs failed to converge (status=1):\n",
      "STOP: TOTAL NO. of ITERATIONS REACHED LIMIT.\n",
      "\n",
      "Increase the number of iterations (max_iter) or scale the data as shown in:\n",
      "    https://scikit-learn.org/stable/modules/preprocessing.html\n",
      "Please also refer to the documentation for alternative solver options:\n",
      "    https://scikit-learn.org/stable/modules/linear_model.html#logistic-regression\n",
      "  extra_warning_msg=_LOGISTIC_SOLVER_CONVERGENCE_MSG,\n"
     ]
    },
    {
     "data": {
      "text/plain": [
       "LogisticRegression()"
      ]
     },
     "execution_count": 164,
     "metadata": {},
     "output_type": "execute_result"
    }
   ],
   "source": [
    "X = data.drop('Survived', 1)\n",
    "y = data.Survived\n",
    "\n",
    "X_train, X_test, y_train, y_test = train_test_split(X, y, test_size=0.2, random_state=2)\n",
    "\n",
    "lr_model = LogisticRegression()\n",
    "lr_model.fit(X_train, y_train)"
   ]
  },
  {
   "cell_type": "code",
   "execution_count": 165,
   "metadata": {},
   "outputs": [
    {
     "data": {
      "text/plain": [
       "array([1, 0, 1, ..., 0, 1, 1])"
      ]
     },
     "execution_count": 165,
     "metadata": {},
     "output_type": "execute_result"
    }
   ],
   "source": [
    "#Prediction of test set\n",
    "y_pred = lr_model.predict(X_test)\n",
    "#Predicted values\n",
    "y_pred"
   ]
  },
  {
   "cell_type": "code",
   "execution_count": 166,
   "metadata": {},
   "outputs": [
    {
     "data": {
      "text/html": [
       "<div>\n",
       "<style scoped>\n",
       "    .dataframe tbody tr th:only-of-type {\n",
       "        vertical-align: middle;\n",
       "    }\n",
       "\n",
       "    .dataframe tbody tr th {\n",
       "        vertical-align: top;\n",
       "    }\n",
       "\n",
       "    .dataframe thead th {\n",
       "        text-align: right;\n",
       "    }\n",
       "</style>\n",
       "<table border=\"1\" class=\"dataframe\">\n",
       "  <thead>\n",
       "    <tr style=\"text-align: right;\">\n",
       "      <th></th>\n",
       "      <th>Actual value</th>\n",
       "      <th>Predicted value</th>\n",
       "    </tr>\n",
       "    <tr>\n",
       "      <th>PassengerId</th>\n",
       "      <th></th>\n",
       "      <th></th>\n",
       "    </tr>\n",
       "  </thead>\n",
       "  <tbody>\n",
       "    <tr>\n",
       "      <th>45482</th>\n",
       "      <td>1</td>\n",
       "      <td>1</td>\n",
       "    </tr>\n",
       "    <tr>\n",
       "      <th>61588</th>\n",
       "      <td>0</td>\n",
       "      <td>0</td>\n",
       "    </tr>\n",
       "    <tr>\n",
       "      <th>3099</th>\n",
       "      <td>1</td>\n",
       "      <td>1</td>\n",
       "    </tr>\n",
       "    <tr>\n",
       "      <th>73178</th>\n",
       "      <td>1</td>\n",
       "      <td>1</td>\n",
       "    </tr>\n",
       "    <tr>\n",
       "      <th>26270</th>\n",
       "      <td>0</td>\n",
       "      <td>0</td>\n",
       "    </tr>\n",
       "  </tbody>\n",
       "</table>\n",
       "</div>"
      ],
      "text/plain": [
       "             Actual value  Predicted value\n",
       "PassengerId                               \n",
       "45482                   1                1\n",
       "61588                   0                0\n",
       "3099                    1                1\n",
       "73178                   1                1\n",
       "26270                   0                0"
      ]
     },
     "execution_count": 166,
     "metadata": {},
     "output_type": "execute_result"
    }
   ],
   "source": [
    "a = pd.DataFrame({'Actual value': y_test, 'Predicted value':y_pred})\n",
    "a.head()"
   ]
  },
  {
   "cell_type": "code",
   "execution_count": 167,
   "metadata": {},
   "outputs": [
    {
     "name": "stdout",
     "output_type": "stream",
     "text": [
      "              precision    recall  f1-score   support\n",
      "\n",
      "           0       0.81      0.77      0.79     11103\n",
      "           1       0.71      0.76      0.73      8239\n",
      "\n",
      "    accuracy                           0.76     19342\n",
      "   macro avg       0.76      0.76      0.76     19342\n",
      "weighted avg       0.77      0.76      0.76     19342\n",
      "\n"
     ]
    },
    {
     "data": {
      "image/png": "[encoded data removed]",
      "text/plain": [
       "<Figure size 432x288 with 2 Axes>"
      ]
     },
     "metadata": {
      "needs_background": "light"
     },
     "output_type": "display_data"
    }
   ],
   "source": [
    "#Confusion matrix and classification report\n",
    "\n",
    "matrix = confusion_matrix(y_test, y_pred)\n",
    "sns.heatmap(matrix, annot=True, fmt=\"d\")\n",
    "plt.title('Confusion Matrix')\n",
    "plt.xlabel('Predicted')\n",
    "plt.ylabel('True')\n",
    "print(classification_report(y_test, y_pred))"
   ]
  },
  {
   "cell_type": "code",
   "execution_count": 175,
   "metadata": {},
   "outputs": [],
   "source": [
    "def fit_plot_confusion(clf, X_train, y_train, X_test, y_test):\n",
    "    clf.fit(X_train, y_train % 2)\n",
    "\n",
    "    mean, std = clf.cv_results_['mean_test_score'][clf.best_index_], \\\n",
    "                clf.cv_results_['std_test_score'][clf.best_index_]\n",
    "\n",
    "    logging.info(clf.best_params_)\n",
    "\n",
    "    disp = metrics.plot_confusion_matrix(clf, X_test, y_test % 2, normalize='true')\n",
    "    disp.figure_.suptitle(\"Confusion Matrix\")\n",
    "    plt.show()\n",
    "    \n",
    "    return clf.best_estimator_, {\"mean\": mean, \"std\": std}"
   ]
  },
  {
   "cell_type": "code",
   "execution_count": 179,
   "metadata": {},
   "outputs": [],
   "source": [
    "lr_param_grid = {'C': [0.01, 0.1, 1.0],\n",
    "                 'penalty': ['l1', 'l2']}\n",
    "lr_clf = GridSearchCV(LogisticRegression(random_state=42, max_iter=1000, solver='saga', n_jobs=-1), lr_param_grid)"
   ]
  },
  {
   "cell_type": "code",
   "execution_count": 180,
   "metadata": {},
   "outputs": [
    {
     "name": "stderr",
     "output_type": "stream",
     "text": [
      "/home/alena/Soft/anaconda3/lib/python3.7/site-packages/sklearn/linear_model/_sag.py:354: ConvergenceWarning: The max_iter was reached which means the coef_ did not converge\n",
      "  ConvergenceWarning,\n",
      "INFO:root:{'C': 0.01, 'penalty': 'l2'}\n",
      "/home/alena/Soft/anaconda3/lib/python3.7/site-packages/sklearn/utils/deprecation.py:87: FutureWarning: Function plot_confusion_matrix is deprecated; Function `plot_confusion_matrix` is deprecated in 1.0 and will be removed in 1.2. Use one of the class methods: ConfusionMatrixDisplay.from_predictions or ConfusionMatrixDisplay.from_estimator.\n",
      "  warnings.warn(msg, category=FutureWarning)\n"
     ]
    },
    {
     "data": {
      "image/png": "[encoded data removed]",
      "text/plain": [
       "<Figure size 432x288 with 2 Axes>"
      ]
     },
     "metadata": {
      "needs_background": "light"
     },
     "output_type": "display_data"
    },
    {
     "name": "stdout",
     "output_type": "stream",
     "text": [
      "CPU times: user 39.1 s, sys: 412 ms, total: 39.5 s\n",
      "Wall time: 14min 26s\n"
     ]
    }
   ],
   "source": [
    "%%time\n",
    "lr_best_clf, lr_stats = fit_plot_confusion(lr_clf, X_train, y_train, X_test, y_test)"
   ]
  },
  {
   "cell_type": "code",
   "execution_count": 209,
   "metadata": {},
   "outputs": [
    {
     "name": "stdout",
     "output_type": "stream",
     "text": [
      "{'mean': 0.765594680468425, 'std': 0.0031619215469183325}\n",
      "[2.08116735]\n"
     ]
    }
   ],
   "source": [
    "print(lr_stats)\n",
    "print(lr_best_clf.intercept_)"
   ]
  },
  {
   "cell_type": "code",
   "execution_count": 182,
   "metadata": {},
   "outputs": [
    {
     "data": {
      "text/plain": [
       "0.7634163995450315"
      ]
     },
     "execution_count": 182,
     "metadata": {},
     "output_type": "execute_result"
    }
   ],
   "source": [
    "y_pred = lr_best_clf.predict(X_test)\n",
    "metrics.accuracy_score(y_pred=y_pred, y_true=y_test % 2)"
   ]
  },
  {
   "cell_type": "markdown",
   "metadata": {},
   "source": [
    "**(0.5 + X points)** Try more feature engineering and hyperparameter tuning to improve the results. You may use either KNN or Logistic Regression (or both)."
   ]
  },
  {
   "cell_type": "code",
   "execution_count": null,
   "metadata": {},
   "outputs": [],
   "source": [
    "## your code"
   ]
  },
  {
   "cell_type": "markdown",
   "metadata": {},
   "source": [
    "Select the best model, load the test set and make the predictions. Submit them to kaggle and see the results :)\n",
    "\n",
    "**Note**. X points will depend on your kaggle public leaderboard score.\n",
    "$$ f(score) = 1.0, \\ \\ 0.79 \\leq score < 0.80,$$\n",
    "$$ f(score) = 2.5, \\ \\ 0.80 \\leq score < 0.81,$$ \n",
    "$$ f(score) = 4.0, \\ \\ 0.81 \\leq score $$ \n",
    "Your code should generate the output submitted to kaggle. Fix random seeds to make the results reproducible."
   ]
  },
  {
   "cell_type": "code",
   "execution_count": 203,
   "metadata": {},
   "outputs": [],
   "source": [
    "## read and transform test data\n",
    "test_data  = pd.read_csv('../data/titanic/test.csv', index_col=0)\n",
    "\n",
    "test_data[\"Age Group\"] = test_data[\"Age\"]\n",
    "test_data[\"Age Group\"].fillna(-1, inplace=True)\n",
    "test_data[\"Age Group\"] = test_data[\"Age Group\"].map(lambda age: int(age // 10) + 1)\n",
    "\n",
    "test_data['Age' ].fillna(data['Age' ].mean(), inplace=True)\n",
    "test_data['Fare'].fillna(data['Fare'].mean(), inplace=True)\n",
    "\n",
    "test_data[\"Relatives\"] = test_data[\"Parch\"] + test_data[\"SibSp\"]\n",
    "test_data = test_data.drop(['Name', 'Ticket', 'Cabin', 'Parch', 'SibSp'], axis=1)"
   ]
  },
  {
   "cell_type": "code",
   "execution_count": 204,
   "metadata": {},
   "outputs": [],
   "source": [
    "df = pd.read_csv(os.path.join(PATH, 'titanic', 'train.csv')).set_index('PassengerId')\n",
    "\n",
    "df['Sex']        = label_encoder.fit_transform(df['Sex'])\n",
    "test_data['Sex'] = label_encoder.transform(test_data['Sex'])\n",
    "\n",
    "df[\"Embarked\"].fillna(df['Embarked'].value_counts().idxmax(), inplace=True)\n",
    "test_data[\"Embarked\"].fillna(df['Embarked'].value_counts().idxmax(), inplace=True)\n",
    "df['Embarked']        = label_encoder.fit_transform(df['Embarked'])\n",
    "test_data['Embarked'] = label_encoder.transform(test_data['Embarked'])"
   ]
  },
  {
   "cell_type": "code",
   "execution_count": 205,
   "metadata": {},
   "outputs": [
    {
     "name": "stdout",
     "output_type": "stream",
     "text": [
      "All done well!\n"
     ]
    }
   ],
   "source": [
    "# predict and write submission\n",
    "final_pred = lr_best_clf.predict(test_data)\n",
    "submission = pd.DataFrame({'PassengerId': test_data.index, 'Survived': final_pred})\n",
    "submission.to_csv('my_submission.csv', index=False)\n",
    "print('All done well!')"
   ]
  },
  {
   "cell_type": "markdown",
   "metadata": {},
   "source": [
    "\n",
    "\n",
    "![Альтернативный текст](https://github.com/bonvech/ml-intro-1/blob/main/5_classification_linear_knn/my_submission.png?raw=True)"
   ]
  },
  {
   "cell_type": "markdown",
   "metadata": {},
   "source": [
    "Пока так."
   ]
  }
 ],
 "metadata": {
  "kernelspec": {
   "display_name": "Python 3",
   "language": "python",
   "name": "python3"
  },
  "language_info": {
   "codemirror_mode": {
    "name": "ipython",
    "version": 3
   },
   "file_extension": ".py",
   "mimetype": "text/x-python",
   "name": "python",
   "nbconvert_exporter": "python",
   "pygments_lexer": "ipython3",
   "version": "3.7.4"
  }
 },
 "nbformat": 4,
 "nbformat_minor": 4
}
